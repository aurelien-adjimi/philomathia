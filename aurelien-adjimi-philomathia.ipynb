{
  "nbformat": 4,
  "nbformat_minor": 0,
  "metadata": {
    "colab": {
      "provenance": [],
      "toc_visible": true
    },
    "kernelspec": {
      "name": "python3",
      "display_name": "Python 3"
    },
    "language_info": {
      "name": "python"
    }
  },
  "cells": [
    {
      "cell_type": "markdown",
      "source": [
        "# Philomathia\n"
      ],
      "metadata": {
        "id": "mYr0YGpbJpWY"
      }
    },
    {
      "cell_type": "markdown",
      "source": [
        "Sommaire :\n",
        "* Algèbre linéaire\n",
        "* Probabilités et Statistique\n",
        "* Calcul de dérivée\n",
        "* Aller plus loin..."
      ],
      "metadata": {
        "id": "DDnH8RevvQ2-"
      }
    },
    {
      "cell_type": "markdown",
      "source": [
        "**Pourquoi Python pour les mathématiques ?**\n",
        "\n",
        "Le langage Python est un langage généraliste, offrant des bibliothèques puissantes en calcul numérique (NumPy, SciPy, SymPy, Matplotlib,...), facilitant les opérations mathématiques plus ou moins complexes, l'analyse statistique et la visualisation des données. Son interactivité via des environnements comme Jupyter Notebook favorise un processus de développement itératif.\n",
        "La communauté active de développeurs et les nombreuses ressources en ligne font de Python un outil incontournable."
      ],
      "metadata": {
        "id": "mqYa4P1AYLF8"
      }
    },
    {
      "cell_type": "markdown",
      "source": [
        "**Pourquoi ce projet ?**\n",
        "\n",
        "Dans ce projet, nous allons aborder des notions de mathématiques basiques nécessaires à la prochaine Unit, le Machine Learning. Pas de panique, nous n'allons rien inventer, nous allons simplement utiliser Python afin de manipuler des vecteurs, des matrices, des probabilités, des graphes faire des simulations et d'autres calculs sympatiques !\n",
        "\n",
        "\\\n",
        "\n",
        "**Il n'est bien sûr pas question d'apprendre par coeur les notions apprises dans ce sujet, mais de s'en servir comme un guide pour d'éventuels futurs questionnements.**\n",
        "\n",
        "\\\n",
        "\n",
        "**Merci de lire et de répondre attentivement aux questions ci-dessous. Appuyez-vous sur les ressources de la base de connaissances.**"
      ],
      "metadata": {
        "id": "hdEXFBsImr5q"
      }
    },
    {
      "cell_type": "markdown",
      "source": [
        "# Librairies utilisées"
      ],
      "metadata": {
        "id": "s_6BNQr_fGrq"
      }
    },
    {
      "cell_type": "code",
      "source": [
        "import numpy as np\n",
        "import pandas as pd\n",
        "import sympy as sp\n",
        "\n",
        "import matplotlib.pyplot as plt\n",
        "\n",
        "from sklearn.datasets import load_wine"
      ],
      "metadata": {
        "id": "2WjXfJYMi0aA"
      },
      "execution_count": null,
      "outputs": []
    },
    {
      "cell_type": "markdown",
      "source": [
        "# Algèbre linéaire\n",
        "Vous devrez exclusivement utiliser la librairie `numpy` dans la section suivante."
      ],
      "metadata": {
        "id": "tMJvSpupa59E"
      }
    },
    {
      "cell_type": "markdown",
      "source": [
        "## **Job 0**\n",
        "\n",
        "1. Créez le vecteur ligne $v = (4, 1, 9)$\n",
        "2. Additionnez, multipliez et divisez le vecteur $v$ par $2$  \n",
        "\n"
      ],
      "metadata": {
        "id": "ralGJ7YaHXLm"
      }
    },
    {
      "cell_type": "code",
      "source": [
        "import numpy as np\n",
        "\"\"\"Vecteur simple\"\"\"\n",
        "v = np.array([4, 1, 9])\n",
        "print(\"v = :\", v)\n",
        "print(\"Taille de v:\", len(v))\n",
        "\n",
        "\"\"\"Vecteur linéaire\"\"\"\n",
        "v = np.linspace(4, 1, 9)\n",
        "print(\"v = \", v)\n",
        "\n",
        "\"\"\"Ajouter 2\"\"\"\n",
        "add_two = v + 2\n",
        "print(add_two)\n",
        "\n",
        "\"\"\"Multiplier par 2\"\"\"\n",
        "multiply_by_two = v * 2\n",
        "print(multiply_by_two)\n",
        "\n",
        "\"\"\"Diviser par 2\"\"\"\n",
        "divide_by_two = v / 2\n",
        "print(divide_by_two)"
      ],
      "metadata": {
        "id": "_JUmL7sQMsCV"
      },
      "execution_count": null,
      "outputs": []
    },
    {
      "cell_type": "markdown",
      "source": [
        "--------------------------------------------------------------------------------\n"
      ],
      "metadata": {
        "id": "aheDJxhm1vNL"
      }
    },
    {
      "cell_type": "markdown",
      "source": [
        "## **Job 1**\n",
        "Additionnez le vecteur $v$ avec le vecteur $w$, définie comme suit $w = (-1, -1, 0)$"
      ],
      "metadata": {
        "id": "ZkcCZMIdMw5I"
      }
    },
    {
      "cell_type": "code",
      "source": [
        "import numpy as np\n",
        "\n",
        "v = np.array([4, 1, 9])\n",
        "w = np.array([-1, -1, 0])\n",
        "\n",
        "add_vectors = (v + w)\n",
        "print(add_vectors)"
      ],
      "metadata": {
        "id": "Uf29sdXcM58l"
      },
      "execution_count": null,
      "outputs": []
    },
    {
      "cell_type": "markdown",
      "source": [
        "-----------------------------------------------------------------"
      ],
      "metadata": {
        "id": "ITMFuM1BgG6H"
      }
    },
    {
      "cell_type": "markdown",
      "source": [
        "## **Job 2**\n",
        "Soient les matrices $M$ et $N$ définies comme suit :\n",
        "$$M = \\begin{pmatrix}\n",
        "1 & 2  \\\\\n",
        "5 & 6\n",
        "\\end{pmatrix},\\space N = \\begin{pmatrix}\n",
        "1 & 1 & -1  \\\\\n",
        "0 & 0 & 1\n",
        "\\end{pmatrix} $$\n",
        "\n",
        "1. Créez les matrices $M$ et $N$. Quelles sont les dimensions de chacune ? Sont-elles des matrices carrées ?\n",
        "2. Est-il possible d'additionner $M$ et $N$ ? Justifiez. Si oui, calculez l'addition.\n",
        "3. Est-il possible de faire le produit matriciel de M par N ? Justifiez. Si oui, calculez le produit.\n",
        "\n"
      ],
      "metadata": {
        "id": "yIMtWbHTNgme"
      }
    },
    {
      "cell_type": "code",
      "source": [
        "import numpy as np\n",
        "\n",
        "M = np.matrix([[1, 2], [5, 6]])\n",
        "N= np.matrix([[1, 1, -1], [0, 0, 1]])\n",
        "print(M.ndim)\n",
        "print(N.ndim)\n",
        "\n",
        "\"\"\"Produit scalaire\"\"\"\n",
        "\"\"\"Ici on utilise l'opérateur * tout simplement. Le produit scalaire sert généralement lorsque l'on veut multiplier une matrice par une valeur/scalaire\"\"\"\n",
        "multiply_scalaire = M * N\n",
        "print(multiply_scalaire)\n",
        "\n",
        "\"\"\"numpy.dot\"\"\"\n",
        "\"\"\"La fonction numpy.dot() donne le même résultat que pour le produit scalaire\"\"\"\n",
        "multiply_dot = np.dot(M, N)\n",
        "print(multiply_dot)\n",
        "\n",
        "\"\"\"numpy.matmul\"\"\"\n",
        "\"\"\"La fonction numpy.matmul() donne le même résultat que pour le produit scalaire et np.dot()\"\"\"\n",
        "multiply_matmul = np.matmul(M, N)\n",
        "print(multiply_matmul)"
      ],
      "metadata": {
        "id": "smbJ7DPBfQxT"
      },
      "execution_count": null,
      "outputs": []
    },
    {
      "cell_type": "markdown",
      "source": [
        "1. M & N sont des martices à deux dimensions. M est une matrice 2x2 et N une matrice 2x3. M est une matrice carrée, pas N.\n",
        "Une matrice carrée est une matrice qui contient le même nombre de lignes que de colonnes\n",
        "\n",
        "2. Il est possible d'additionner deux matrices uniquement si elles sont de même dimensions. Par conséquant il n'est pas possible d'additionner M & N\n",
        "\n",
        "3. Le produit matriciel est possible si et seulement si le nombre de colonnes de la matrice M est égal au nombre de lignes de la matrice N\n",
        "Dans notre cas, M est une matrice de 2 lignes et 2 colonnes, N est une matrice de 2 lignes et 3 colonnes."
      ],
      "metadata": {
        "id": "N8fbisy44hfH"
      }
    },
    {
      "cell_type": "markdown",
      "source": [
        "-----------------------------------"
      ],
      "metadata": {
        "id": "bPsxeP6rfapL"
      }
    },
    {
      "cell_type": "markdown",
      "source": [
        "## **Job 3**\n",
        "Soit la matrice suivante :\n",
        "$$A = \\begin{pmatrix}\n",
        "1 & 2 & 3 & 4 \\\\\n",
        "5 & 6 & 7 & 8 \\\\\n",
        "9 & 10 & 11 & 12 \\\\\n",
        "13 & 14 & 15 & 16\n",
        "\\end{pmatrix} $$\n",
        "\n",
        "1. Créez et affichez la matrice A\n",
        "\n",
        "2. Créez une copie $C$ de la matrice $A$\n",
        "\n",
        "3. Créez une copie superficielle $B$ de la matrice $A$, sans copier sa référence\n",
        "\n",
        "4. Affichez la valeur se trouvant à la ligne 2 et à la colonne 3\n",
        "\n",
        "5. Affichez tous les éléments de la $2^{ème}$ ligne\n",
        "\n",
        "6. Affichez tous les éléments de la $1^{ème}$ colonne\n",
        "\n",
        "7. Affichez la diagonale de $A$\n",
        "\n",
        "8. Multipliez la matrice $A$ par $\\frac{1}{2}$"
      ],
      "metadata": {
        "id": "W5Vfaozbt7_a"
      }
    },
    {
      "cell_type": "code",
      "source": [
        "import numpy as np\n",
        "\n",
        "\"\"\"1\"\"\"\n",
        "A = np.matrix([[1, 2, 3, 4], [5, 6, 7, 8], [9, 10, 11, 12], [13, 14, 15, 16]])\n",
        "print(A)\n",
        "\n",
        "\"\"\"2\"\"\"\n",
        "C = A.copy()\n",
        "print(C)\n",
        "\n",
        "\"\"\"3\"\"\"\n",
        "B = A.view()\n",
        "\"\"\"On peut aussi le faire comme suit: B = np.copy(A)\"\"\"\n",
        "print(B)\n",
        "\n",
        "\"\"\"4\"\"\"\n",
        "result = A[2, 3]\n",
        "print(result)\n",
        "\n",
        "\"\"\"5\"\"\"\n",
        "second_line = A[1,:]\n",
        "print(second_line)\n",
        "\n",
        "\"\"\"6\"\"\"\n",
        "first_column = A[:,0]\n",
        "print(first_column)\n",
        "\n",
        "\"\"\"7\"\"\"\n",
        "diagonal = A.diagonal()\n",
        "print(diagonal)\n",
        "\n",
        "\"\"\"8\"\"\"\n",
        "multiply = A * (1/2)\n",
        "multiply2 = A * 0.5\n",
        "print(multiply)\n",
        "print(multiply2)"
      ],
      "metadata": {
        "id": "OLlKmDT1gPsr"
      },
      "execution_count": null,
      "outputs": []
    },
    {
      "cell_type": "markdown",
      "source": [
        "-------------------------------------------------------"
      ],
      "metadata": {
        "id": "egHy1WsBfUc0"
      }
    },
    {
      "cell_type": "markdown",
      "source": [
        "## **Job 4**\n",
        "Considérons les matrices $A$ et $A_{bis}$ définies comme ci-dessous :\n",
        "\n",
        "$$ A = \\begin{pmatrix}\n",
        "1 & 5 & 3  \\\\\n",
        "2 & 4 & 7\n",
        "\\end{pmatrix}, \\space A_{bis} = \\begin{pmatrix}\n",
        "1 & 2  \\\\\n",
        "5 & 4 \\\\\n",
        "3 & 7\n",
        "\\end{pmatrix}$$\n",
        "\n",
        "1. Quelles sont les dimensions de $A$ et de $A_{bis}$ ?\n",
        "2. Qu'est ce que vous voyez en observant ces deux matrices ?\n",
        "3. Quelle opération mathématique permet d'obtenir $A_{bis}$ comme résultat à partir de $A$ ?\n",
        "4. Quelle fonction Python permet de faire ce type d'opération ?\n",
        "5. A l'aide de l'opération précédente, transformez les vecteurs et les matrices ci-dessous. Affichez leurs dimensions avant et après l'opération :\n",
        "  * $\\begin{pmatrix}\n",
        "7  \\\\\n",
        "4 \\\\\n",
        "1\n",
        "\\end{pmatrix}$\n",
        "\n",
        "  * $\\begin{pmatrix}\n",
        "9 & 0 & 3 \\\\\n",
        "\\end{pmatrix}$\n",
        "\n",
        "  * $\\begin{pmatrix}\n",
        "2 & 4 & 1 \\\\\n",
        "0 & 5 & 2 \\\\\n",
        "3 & 1 & 6\n",
        "\\end{pmatrix}$\n",
        "\n",
        "  * $\\begin{pmatrix}\n",
        "  7 & 2 & 5 & 1 \\\\\n",
        "3 & 6 & 0 & 2 \\\\\n",
        "\\end{pmatrix}$\n"
      ],
      "metadata": {
        "id": "7Tv1qDFOo0ID"
      }
    },
    {
      "cell_type": "code",
      "source": [
        "import numpy as np\n",
        "\n",
        "\"\"\"1\"\"\"\n",
        "\"\"\"Les deux matrices ont des dimensions de 2\"\"\"\n",
        "A = np.matrix([[1, 5, 3], [2, 4, 7]])\n",
        "Abis = np.matrix([[1, 2], [5, 4], [3, 7]])\n",
        "\n",
        "A_dim = A.ndim\n",
        "Abis_dim =Abis.ndim\n",
        "\n",
        "\n",
        "print(A_dim)\n",
        "print(Abis_dim)\n",
        "\n",
        "\"\"\"4\"\"\"\n",
        "\"\"\"Pour réaliser ceci en Python, on peut se servir de la fonction \"T\", le code serait le suivant:\"\"\"\n",
        "transpo = A.T\n",
        "print(transpo)\n",
        "\n",
        "\"\"\"5\"\"\"\n",
        "v = np.array([[7], [4], [1]])\n",
        "print(v.ndim)\n",
        "vt = v.T\n",
        "print(vt.ndim)\n",
        "\n",
        "v2 = np.array([9, 0, 3])\n",
        "print(v2.ndim)\n",
        "vt2 = v2.T\n",
        "print(vt2.ndim)\n",
        "\n",
        "m = np.matrix([[2, 4, 1], [0, 5, 2], [3, 1, 6]])\n",
        "print(m.ndim)\n",
        "mt = m.T\n",
        "print(mt.ndim)\n",
        "\n",
        "m2 = np.matrix([[7, 2, 5, 1], [3, 6, 0, 2]])\n",
        "print(m2.ndim)\n",
        "m2t = m2.T\n",
        "print(m2t.ndim)\n",
        "\n"
      ],
      "metadata": {
        "id": "o1Hj2crXfRe9"
      },
      "execution_count": null,
      "outputs": []
    },
    {
      "cell_type": "markdown",
      "source": [],
      "metadata": {
        "id": "qaLH4T0aWlJQ"
      }
    },
    {
      "cell_type": "markdown",
      "source": [
        "2.\n",
        "J'observe que la A contient 2 lignes et 3 colonnes et que Abis contient 3 lignes et 2 colonnes. Cependant, ce sont toutes deux des matrices à deux dimensions.\n",
        "J'observe également que les colonnes de A sont égales aux lignes de Abis\n",
        "\n",
        "3.\n",
        "Pour obtenir Abis à partir de A, il faut utiliser la transposée. La transposée échange les lignes et les colonnes d'une matrice"
      ],
      "metadata": {
        "id": "MEEdD7a2WpkD"
      }
    },
    {
      "cell_type": "markdown",
      "source": [
        "------------------------------------------"
      ],
      "metadata": {
        "id": "DNws-5WUo2Ab"
      }
    },
    {
      "cell_type": "markdown",
      "source": [
        "## **Job 5**\n",
        "On considère la matrice $A$ de dimension 3 $\\times 4$ définie comme :\n",
        "\n",
        "$$ A = \\begin{pmatrix}\n",
        "4 & 6 & -2 & 3 \\\\\n",
        "2 & -1 & 0 & 1 \\\\\n",
        "-7 & 0 & 1 & 12\n",
        "\\end{pmatrix} $$\n",
        "\n",
        "1. Créez la matrice $A$.\n",
        "\n",
        "2. Modifiez la matrice $A$ pour que ses deux premières lignes soient multipliées par 2 et que sa dernière colonne soit divisée par 3.\n",
        "\n",
        "3. Créez une nouvelle matrice $B$ définie comme :\n",
        "\n",
        "$$ B = \\begin{pmatrix}\n",
        "4 & 5 & 6 \\\\\n",
        "5 & 10 & 15 \\\\\n",
        "1 & 1 & 1\n",
        "\\end{pmatrix}  $$\n",
        "\n",
        "4. Réalisez le produit matriciel de $B$ et $A$, notez le $D$."
      ],
      "metadata": {
        "id": "Il-yWHePVIqI"
      }
    },
    {
      "cell_type": "code",
      "source": [
        "import numpy as np\n",
        "\n",
        "\"\"\"1\"\"\"\n",
        "A = np.matrix([[4, 6, -2, 3], [2, -1, 0, 1], [-7, 0, 1, 12]], dtype='float')\n",
        "\n",
        "\"\"\"2\"\"\"\n",
        "A[:2, :] = A[:2, :] * 2\n",
        "A[2, :] = A[2, :] / 3\n",
        "print(A)\n",
        "\n",
        "\"\"\"3\"\"\"\n",
        "B = np.matrix([[4, 5, 6], [5, 10, 15], [1, 1, 1]])\n",
        "\n",
        "\"\"\"4\"\"\"\n",
        "D = np.dot(B, A)\n",
        "print(D)\n",
        "\n"
      ],
      "metadata": {
        "id": "u7qHn_eXj4QD"
      },
      "execution_count": null,
      "outputs": []
    },
    {
      "cell_type": "markdown",
      "source": [
        "---------------------------------------------------------"
      ],
      "metadata": {
        "id": "pUe2Q9LJg8-e"
      }
    },
    {
      "cell_type": "markdown",
      "source": [
        "## **Job 6**\n",
        "\n",
        "Soit la matrice $I_3$ définie comme suit :\n",
        "$$ \\begin{pmatrix}\n",
        "1 & 0 & 0 \\\\\n",
        "0 & 1 & 0 \\\\\n",
        "0 & 0 & 1\n",
        "\\end{pmatrix}$$\n",
        "\n",
        "1. Faites une multiplication matricielle de $I_3$ et d'une autre matrice de même taille de votre choix. Qu'est ce que vous observez ?\n",
        "2. Renseignez-vous sur la matrice $I_3$. Quelles sont ses caractéristiques ?"
      ],
      "metadata": {
        "id": "fy9H6rsutmov"
      }
    },
    {
      "cell_type": "code",
      "source": [
        "import numpy as np\n",
        "\n",
        "I3 = np.matrix([[1, 0, 0], [0, 1, 0], [0, 0, 1]])\n",
        "I4 = np.matrix([[0, 0, 1], [0, 1, 0], [1, 0, 0]])\n",
        "\n",
        "matrice = np.dot(I3, I4)\n",
        "print(matrice)"
      ],
      "metadata": {
        "id": "SIVfVrphw6mD"
      },
      "execution_count": null,
      "outputs": []
    },
    {
      "cell_type": "markdown",
      "source": [
        "1. Ce que je peux observer c'est que le résultat du produit entre I3 et une matrice random sera toujours égal à la matrice random.\n",
        "\n",
        "2. La matrice I3 est une matrice identité, c'est a dire une matrice qui contient des 1 sur sa diagonale et des 0 partout ailleurs."
      ],
      "metadata": {
        "id": "M4knj2BVh7uo"
      }
    },
    {
      "cell_type": "markdown",
      "source": [
        "--------------------------------------------------------------"
      ],
      "metadata": {
        "id": "D1RXE9cXx3LD"
      }
    },
    {
      "cell_type": "markdown",
      "source": [
        "## **Job 7**\n",
        "\n",
        "Pour un nombre réel $x$, son inverse, noté $\\frac{1}{x}$ ou $x^{-1}$, est un autre nombre tel que $x \\times \\frac{1}{x} = 1$\n",
        "\n",
        " En d'autres termes, lorsque vous multipliez un nombre par son inverse, le résultat est toujours $1$.\n",
        "\n",
        " Démontrez le dans la cellule ci-dessous pour des nombres de votre choix."
      ],
      "metadata": {
        "id": "2AB67_wztCQT"
      }
    },
    {
      "cell_type": "code",
      "source": [
        "x = 67\n",
        "inverse = x * (1/x)\n",
        "print(inverse)"
      ],
      "metadata": {
        "id": "AOV7zzmzx4_o",
        "colab": {
          "base_uri": "https://localhost:8080/"
        },
        "outputId": "45b58e5a-d0f2-4e49-f00c-6c66ed3d43ee"
      },
      "execution_count": null,
      "outputs": [
        {
          "output_type": "stream",
          "name": "stdout",
          "text": [
            "1.0\n"
          ]
        }
      ]
    },
    {
      "cell_type": "markdown",
      "source": [
        "-----------------------------------------------------------------"
      ],
      "metadata": {
        "id": "u-S8sAZPx5Lz"
      }
    },
    {
      "cell_type": "markdown",
      "source": [
        "## **Job 8**\n",
        "\n",
        "L'inverse d'une matrice est une autre matrice qui, lorsqu'elle est multipliée par la matrice d'origine, donne une matrice identité. En d'autres termes, si $A$ est une matrice et $A^{-1}$ est son inverse, alors $A \\times A^{-1} = I$.\n",
        "\n",
        "*(C'est comme si l'inverse de la matrice \"compensait\" les effets de la matrice d'origine, de la même manière que l'inverse d'un nombre \"compense\" sa multiplication initiale pour obtenir $1$.)*\n",
        "\n",
        "Soient deux matrices $A$ et $B$ telles que :\n",
        "\n",
        "$$ A = \\begin{pmatrix}\n",
        "1 & 2 \\\\\n",
        "3 & 4\n",
        "\\end{pmatrix}, \\space B = \\begin{pmatrix}\n",
        "-2 & 1 \\\\\n",
        "1.5 & -0.5\n",
        "\\end{pmatrix}$$\n",
        "\n",
        "1. Calculez $A \\times B$ puis $B \\times A$.\n",
        "2. Que pouvez-vous conclure sur les deux matrices ?"
      ],
      "metadata": {
        "id": "RgYKdF1J6fXn"
      }
    },
    {
      "cell_type": "code",
      "source": [
        "import numpy as np\n",
        "\n",
        "\"\"\"1\"\"\"\n",
        "A = np.matrix([[1, 2], [3, 4]])\n",
        "B = np.matrix([[-2, 1], [1.5, -0.5]])\n",
        "\n",
        "a_by_b = A * B\n",
        "b_by_a = B * A\n",
        "\n",
        "print(a_by_b)\n",
        "print(b_by_a)"
      ],
      "metadata": {
        "id": "DYkYvgfr6iBH",
        "colab": {
          "base_uri": "https://localhost:8080/"
        },
        "outputId": "4c22af43-a3b8-49fe-980d-ffe3423afcbd"
      },
      "execution_count": null,
      "outputs": [
        {
          "output_type": "stream",
          "name": "stdout",
          "text": [
            "[[1. 0.]\n",
            " [0. 1.]]\n",
            "[[1. 0.]\n",
            " [0. 1.]]\n"
          ]
        }
      ]
    },
    {
      "cell_type": "markdown",
      "source": [
        "2. On peut voir le début d'une matrice identité avec ces deux résultats.\n",
        "Je peux conclure que les résultats de ces deux opérations sont identiques. Si les résultats des deux opérations sont identiques et que l'on voit une matrice identité cela veut dire que les deux matrices sont des inverses (B est l'inverse de A).\n"
      ],
      "metadata": {
        "id": "Uymbc2dNlNmO"
      }
    },
    {
      "cell_type": "markdown",
      "source": [
        "----------------------------------------------------------------------"
      ],
      "metadata": {
        "id": "rLtfdXh76iTd"
      }
    },
    {
      "cell_type": "markdown",
      "source": [
        "## **Job 9**\n",
        "\n",
        "On dit qu'une matrice carrée $M$ est inversible (ou possède un inverse $M^{-1}$) si son déterminant $det(M)\\neq 0$.\n",
        "\n",
        "**Par exemple :**\n",
        "\n",
        "$$ M = \\begin{pmatrix}\n",
        "a & b \\\\\n",
        "c & d\n",
        "\\end{pmatrix}, \\space det(M) = (a \\times d) - (c \\times b) \\neq 0$$\n",
        "\n",
        "On définit alors $M^{-1}$ comme suit :\n",
        "\n",
        "$$ M^{-1} = \\frac{1}{det(M)} \\times \\begin{pmatrix}\n",
        "d & -b \\\\\n",
        "-c & a\n",
        "\\end{pmatrix} $$\n",
        "\n",
        "\\\n",
        "\n",
        "1. Vérifiez si les matrices carrées ci-dessous sont inversibles (il existe une fonction de numpy qui le fait très bien...) :\n",
        "\n",
        "  * $ \\begin{pmatrix}\n",
        "5 & 6 \\\\\n",
        "7 & 8\n",
        "\\end{pmatrix}$\n",
        "\n",
        "  * $ \\begin{pmatrix}\n",
        "3 & 2 \\\\\n",
        "4 & 1\n",
        "\\end{pmatrix}$\n",
        "\n",
        "  * $ \\begin{pmatrix}\n",
        "1 & 5 \\\\\n",
        "7 & 8 \\\\\n",
        "0 & 1\n",
        "\\end{pmatrix}$\n",
        "\n",
        "  * $ \\begin{pmatrix}\n",
        "1 & 2 & 3 \\\\\n",
        "0 & -1 & 4 \\\\\n",
        "2 & 1 & 5\n",
        "\\end{pmatrix}$\n",
        "\n",
        "\n",
        "2. Calculez l'inverse de ces matrices à l'aide de la formule donnée précédemment."
      ],
      "metadata": {
        "id": "rfRPzGs-3MG2"
      }
    },
    {
      "cell_type": "code",
      "source": [
        "import numpy as np\n",
        "\n",
        "\"\"\"1\"\"\"\n",
        "m1 = np.matrix([[5, 6], [7, 8]])\n",
        "inverse_m1 = np.linalg.inv(m1)\n",
        "try:\n",
        "    inverse_m1 = np.linalg.inv(m1)\n",
        "    print(\"m1 est inversible\")\n",
        "except np.linalg.LinAlgError:\n",
        "    print(\"m1 n'est pas inversible\")\n",
        "\n",
        "m2 = np.matrix([[3, 2], [4, 1]])\n",
        "inverse_m2 = np.linalg.inv(m2)\n",
        "try:\n",
        "    inverse_m2 = np.linalg.inv(m2)\n",
        "    print(\"m2 est inversible\")\n",
        "except np.linalg.LinAlgError:\n",
        "    print(\"m2 n'est pas inversible\")\n",
        "\n",
        "m3 = np.matrix([[1, 5], [7, 8], [0, 1]])\n",
        "try:\n",
        "    inverse_m3 = np.linalg.inv(m3)\n",
        "    print(\"m3 est inversible\")\n",
        "except np.linalg.LinAlgError:\n",
        "    print(\"m3 n'est pas inversible\")\n",
        "\n",
        "m4 = np.matrix([[1, 2, 3], [0, -1, 4], [2, 1, 5]])\n",
        "inverse_m4 = np.linalg.inv(m4)\n",
        "try:\n",
        "    inverse_m4 = np.linalg.inv(m4)\n",
        "    print(\"m4 est inversible\")\n",
        "except np.linalg.LinAlgError:\n",
        "    print(\"m4 n'est pas inversible\")\n",
        "\n",
        "\n",
        "\"\"\"2\"\"\"\n",
        "det_m1 = (5 * 8) - (7 * 6)\n",
        "print(det_m1)\n",
        "inv_m1 = 1 / det_m1 * (inverse_m1)\n",
        "print(inv_m1)\n",
        "\n",
        "det_m2 = (3 * 1) - (4 * 2)\n",
        "print(det_m2)\n",
        "inv_m2 = 1 / det_m2 * (inverse_m2)\n",
        "print(inv_m2)\n",
        "\n",
        "det_m4 = (m4[0, 0] * ((m4[1, 1] * m4[2, 2]) - (m4[1, 2] * m4[2, 1])) -\n",
        "          m4[0, 1] * ((m4[1, 0] * m4[2, 2]) - (m4[1, 2] * m4[2, 0])) +\n",
        "          m4[0, 2] * ((m4[1, 0] * m4[2, 1]) - (m4[1, 1] * m4[2, 0])))\n",
        "print(det_m4)\n",
        "inv_m4 = 1 / det_m4 * (inverse_m4)\n",
        "print(inv_m4)"
      ],
      "metadata": {
        "id": "EqS8e-z13Lf9",
        "colab": {
          "base_uri": "https://localhost:8080/"
        },
        "outputId": "18602d88-6227-4edb-be80-24b410c96733"
      },
      "execution_count": null,
      "outputs": [
        {
          "output_type": "stream",
          "name": "stdout",
          "text": [
            "m1 est inversible\n",
            "m2 est inversible\n",
            "m3 n'est pas inversible\n",
            "m4 est inversible\n",
            "-2\n",
            "[[ 2.   -1.5 ]\n",
            " [-1.75  1.25]]\n",
            "-5\n",
            "[[ 0.04 -0.08]\n",
            " [-0.16  0.12]]\n",
            "13\n",
            "[[-0.05325444 -0.04142012  0.06508876]\n",
            " [ 0.04733728 -0.00591716 -0.02366864]\n",
            " [ 0.01183432  0.01775148 -0.00591716]]\n"
          ]
        }
      ]
    },
    {
      "cell_type": "markdown",
      "source": [
        "-----------------------------------------------------------------"
      ],
      "metadata": {
        "id": "Gx-D1gOvx9q7"
      }
    },
    {
      "cell_type": "markdown",
      "source": [
        "# Probabilités et Statistique"
      ],
      "metadata": {
        "id": "CQtesnAQhBWC"
      }
    },
    {
      "cell_type": "markdown",
      "source": [
        "## **Job 10**\n",
        "**La probabilité d'un événement est un nombre réel compris entre 0 et 1. Plus ce nombre est grand, plus le risque, ou la chance, que l'événement se produise est grand.**\n",
        "\n",
        "Lancez une pièce de monnaie 100 fois et enregistrez le résultat, pile ou face, dans un `array` $T$.\n",
        "1. Quelle est donc la probabilité d'obtenir le résultat Pile ou le résultat Face ?\n",
        "3. Visualisez la proportion des résultats à l'aide d'un piechart de `Matplotlib` (ou d'une autre librairie de votre choix).\n"
      ],
      "metadata": {
        "id": "ln_exBJbqReD"
      }
    },
    {
      "cell_type": "code",
      "source": [
        "import random\n",
        "import matplotlib.pyplot as plt\n",
        "\n",
        "nb_lancers = 100\n",
        "T = []\n",
        "\n",
        "for x in range(nb_lancers):\n",
        "  result = random.choice(['Pile', 'Face'])\n",
        "  T.append(result)\n",
        "\n",
        "nb_pile = T.count('Pile')\n",
        "nb_face = T.count('Face')\n",
        "\n",
        "proba_pile = nb_pile / len(T)\n",
        "proba_face = nb_face / len(T)\n",
        "\n",
        "labels = ['Pile', 'Face']\n",
        "prop = [proba_pile, proba_face]\n",
        "colors = ['pink', 'lightblue']\n",
        "\n",
        "plt.pie(prop, labels=labels, colors=colors, autopct='%1.1f%%', startangle=90)\n",
        "plt.axis('equal')\n",
        "\n",
        "plt.title('Visualisation des résultats')\n",
        "plt.show()"
      ],
      "metadata": {
        "id": "iOPwW6xwrI-v",
        "colab": {
          "base_uri": "https://localhost:8080/",
          "height": 428
        },
        "outputId": "472c4912-165d-4008-b7c5-f4feb1877fd5"
      },
      "execution_count": null,
      "outputs": [
        {
          "output_type": "display_data",
          "data": {
            "text/plain": [
              "<Figure size 640x480 with 1 Axes>"
            ],
            "image/png": "[encoded data removed]"
          },
          "metadata": {}
        }
      ]
    },
    {
      "cell_type": "markdown",
      "source": [
        "## **Job 11**\n",
        "\n",
        "Considérez un dé $D_6$ dont les valeurs possibles sont : $\\{1, 2, 3, 4, 5, 6\\}$.\n",
        "\n",
        "Ce dé est non truqué, ce qui signifie que toutes les valeurs ont des probabilités égales de se produire.  \n",
        "\n",
        "Si je jette le dé $D_6$, la probabilité que le résultat soit $3$ est de $\\frac{1}{6}$.\n",
        "\n",
        "1. Quelle est la probabilité d'obtenir $7$ au jet du dé $D_6$ ?\n",
        "2. Quelle est la probabilité d'obtenir un résultat pair ?\n",
        "3. Quelle est la probabilité d'obtenir un résultat impair ?\n",
        "4. Quelle est la probabilité d'obtenir un résultat inférieur ou égal à $4$ ?\n",
        "5. Quelle est la probabilité d'obtenir un résultat inférieur ou égal à $6$ ?\n",
        "6. Quelle est la probabilité de ne pas obtenir $1$ ?"
      ],
      "metadata": {
        "id": "MxiFruoxmYug"
      }
    },
    {
      "cell_type": "code",
      "source": [
        "D6 = 6\n",
        "pair = 3\n",
        "impair = 3\n",
        "inf_egal_4 = 4\n",
        "inf_egal_6 = 6\n",
        "not_1 = 5\n",
        "\n",
        "proba_pair = pair / D6\n",
        "proba_impair = impair / D6\n",
        "proba_inf_4 = inf_egal_4 / D6\n",
        "proba_inf_6 = inf_egal_6 / D6\n",
        "proba_not1 = not_1 / D6"
      ],
      "metadata": {
        "id": "Nbpx1FibWrBs",
        "colab": {
          "base_uri": "https://localhost:8080/"
        },
        "outputId": "66e99279-17f7-4649-85ee-6212372d7f9b"
      },
      "execution_count": 35,
      "outputs": [
        {
          "output_type": "stream",
          "name": "stdout",
          "text": [
            "0.5\n"
          ]
        }
      ]
    },
    {
      "cell_type": "markdown",
      "source": [
        "1. La probabilité d'obtenir 7 en lançant le dé est de 0.\n",
        "2. La probabilité d'obtenir un nombre pair est de 3/6 soit 1/2 ou 50%\n",
        "3. La probabilité d'obtenir un nombre impair est de 3/6 soit 1/2 ou 50%\n",
        "4. La probabilité d'obtenur un nombre inférieur ou égal à 4 est de 4/6\n",
        "5. La probabilité d'obtenir un nombre inférieur ou égal à 6 est de 6/6 soit 100%\n",
        "6. La probabilité de ne pas obtenir 1 est de 5/6"
      ],
      "metadata": {
        "id": "YoAu5pfDO0Aj"
      }
    },
    {
      "cell_type": "markdown",
      "source": [
        "-------------------------------------------------------------"
      ],
      "metadata": {
        "id": "WSdMr0IBWthA"
      }
    },
    {
      "cell_type": "markdown",
      "source": [
        "## **Job 12**\n",
        "A l'aide de `numpy` et de ses différentes fonctions :\n",
        "* Créez un vecteur ligne $R$ de taille $n=450$ composé de nombres naturels entre $0$ et $9$ générés aléatoirement\n",
        "* Calculez la valeur moyenne du tableau\n",
        "* Calculez la valeur médiane\n",
        "* Calculez la variance\n",
        "* Calculez l'écart-type"
      ],
      "metadata": {
        "id": "uttOswY_g-gC"
      }
    },
    {
      "cell_type": "code",
      "source": [
        "import numpy as np\n",
        "\n",
        "n = 450\n",
        "\n",
        "R = np.random.randint(0, 10, size=n)\n",
        "moyenne = np.mean(R)\n",
        "mediane = np.median(R)\n",
        "variance = np.var(R)\n",
        "ecart_type = np.std(R)\n",
        "\n",
        "print(\"Vecteur généré aléatoirement:\", R)\n",
        "print(\"Moyenne de R:\", moyenne)\n",
        "print(\"Médiane de R:\", mediane)\n",
        "print(\"Variance de R:\", variance)\n",
        "print(\"Ecart-type de R:\", ecart_type)"
      ],
      "metadata": {
        "id": "q4WwtEoHj5ZV",
        "colab": {
          "base_uri": "https://localhost:8080/"
        },
        "outputId": "48659851-df77-46b8-cd1e-09b589964283"
      },
      "execution_count": null,
      "outputs": [
        {
          "output_type": "stream",
          "name": "stdout",
          "text": [
            "Vecteur généré aléatoirement: [8 8 0 2 4 4 1 0 8 0 3 1 6 5 9 3 2 8 2 0 4 1 8 7 9 1 6 2 4 0 7 6 8 3 9 5 0\n",
            " 9 2 7 5 8 8 7 4 7 1 3 0 6 6 4 7 3 4 8 0 2 1 6 3 0 1 4 2 0 1 2 4 6 0 2 5 6\n",
            " 0 9 6 8 0 3 5 3 7 3 3 7 5 8 3 5 6 8 8 6 5 7 8 8 4 1 7 5 4 3 8 7 8 7 9 8 3\n",
            " 1 8 1 9 8 9 1 9 7 5 2 2 2 0 6 8 4 4 5 9 9 3 4 7 2 4 5 3 8 1 6 0 6 7 0 4 7\n",
            " 9 3 4 8 0 7 1 0 3 6 0 0 5 7 2 0 3 7 8 4 4 3 5 1 0 9 6 5 6 6 2 4 7 8 0 6 9\n",
            " 2 8 4 0 6 1 5 7 2 4 0 6 3 7 7 7 0 1 7 0 6 0 1 8 2 9 4 7 5 4 5 7 2 1 6 9 0\n",
            " 8 3 6 8 2 5 7 3 0 3 7 8 6 1 4 5 8 8 8 3 7 0 9 4 9 2 5 2 4 8 1 8 3 1 2 0 1\n",
            " 2 6 8 4 1 9 4 5 8 4 9 9 3 5 9 3 8 6 8 7 0 3 5 8 4 8 9 8 7 3 1 2 7 0 5 9 6\n",
            " 8 0 4 0 0 1 1 3 8 3 4 8 8 0 7 1 3 2 7 9 2 8 4 8 8 9 5 0 0 4 2 0 0 1 4 9 8\n",
            " 9 2 6 6 7 6 6 2 7 9 1 1 1 8 7 5 2 5 0 9 6 1 6 8 6 7 8 7 1 5 5 4 5 7 9 1 6\n",
            " 3 6 6 7 4 1 0 7 0 6 3 2 5 5 4 3 6 4 1 4 1 3 5 1 2 1 6 5 8 1 4 7 9 4 6 9 0\n",
            " 6 1 2 7 9 4 0 6 6 5 9 3 0 4 0 9 1 9 5 3 1 2 0 1 6 7 8 3 0 4 4 3 7 4 7 0 5\n",
            " 6 7 0 6 0 4]\n",
            "Moyenne de R: 4.5\n",
            "Médiane de R: 5.0\n",
            "Variance de R: 8.472222222222221\n",
            "Ecart-type de R: 2.91070819942883\n"
          ]
        }
      ]
    },
    {
      "cell_type": "markdown",
      "source": [
        "----------------------------------------------"
      ],
      "metadata": {
        "id": "Aw0gaIdZazFa"
      }
    },
    {
      "cell_type": "markdown",
      "source": [
        "## **Job 13**\n",
        "A l'aide de matplotlib (ou d'une autre librairie de votre choix), visualisez la distribution des données du tableau $R$ en générant un histogramme."
      ],
      "metadata": {
        "id": "KqxEDbkKkP4t"
      }
    },
    {
      "cell_type": "code",
      "source": [
        "import numpy as np\n",
        "import matplotlib.pyplot as plt\n",
        "\n",
        "n = 450\n",
        "\n",
        "R = np.random.randint(0, 10, size=n)\n",
        "\n",
        "plt.hist(R, bins=10, edgecolor='k')\n",
        "\n",
        "plt.xlabel('Valeurs')\n",
        "plt.ylabel('Fréquence')\n",
        "plt.title('Distribution des données de R')\n",
        "\n",
        "plt.show()"
      ],
      "metadata": {
        "id": "8sWEFtOskmmg",
        "colab": {
          "base_uri": "https://localhost:8080/",
          "height": 472
        },
        "outputId": "4d305737-b3ed-4f24-da0f-b5603c1e60f1"
      },
      "execution_count": null,
      "outputs": [
        {
          "output_type": "display_data",
          "data": {
            "text/plain": [
              "<Figure size 640x480 with 1 Axes>"
            ],
            "image/png": "[encoded data removed]"
          },
          "metadata": {}
        }
      ]
    },
    {
      "cell_type": "markdown",
      "source": [
        "---------------------------------------------------------"
      ],
      "metadata": {
        "id": "BoIJ71z2a0aY"
      }
    },
    {
      "cell_type": "markdown",
      "source": [
        "## **Job 14**\n",
        "A l'aide de matplotlib (ou d'une autre librairie de votre choix), visualisez la distribution et dispersion des données du tableau $R$ à travers leurs **quartiles** en utilisant l'outil statistique, le boxplot."
      ],
      "metadata": {
        "id": "QXOHm1PqknPj"
      }
    },
    {
      "cell_type": "code",
      "source": [
        "import numpy as np\n",
        "import matplotlib.pyplot as plt\n",
        "\n",
        "\n",
        "n = 450\n",
        "\n",
        "R = np.random.randint(0, 10, size=n)\n",
        "\n",
        "plt.boxplot(R, showfliers=False)\n",
        "\n",
        "plt.title(\"Visualisation de la distribution et de la dispersion de données dans une Boite à moustache\")\n",
        "\n",
        "plt.show()"
      ],
      "metadata": {
        "id": "olFRkPQHkxwV",
        "colab": {
          "base_uri": "https://localhost:8080/",
          "height": 453
        },
        "outputId": "0051463b-ceac-41fd-90e1-fcb4e46f8d69"
      },
      "execution_count": null,
      "outputs": [
        {
          "output_type": "display_data",
          "data": {
            "text/plain": [
              "<Figure size 640x480 with 1 Axes>"
            ],
            "image/png": "[encoded data removed]"
          },
          "metadata": {}
        }
      ]
    },
    {
      "cell_type": "markdown",
      "source": [
        "-----------------------------------------------------"
      ],
      "metadata": {
        "id": "tHtFR_Mha177"
      }
    },
    {
      "cell_type": "markdown",
      "source": [
        "## **Job 15**\n",
        "\n",
        "Considérons des données de résultats d'une analyse chimique de vins cultivés en Italie issus de trois cultivars différents. Ces données ont été récupérées et chargées dans un `DataFrame` via la code ci-dessous.\n",
        "\n",
        "1. Affichez différentes informations de `wine_df` (nombre d'observations, nombre de caractéristiques, type de données, données manquantes, mémoire allouée en RAM).\n",
        "\n",
        "2. A l'aide d'une fonction spécifique de `Pandas`, générez les statistiques descriptives (moyenne, médiane, maximum, ...) du jeu de données. Qu'est ce que vous observez ?\n",
        "\n",
        "3. Visualisez la distribution des différentes variables du jeu de données à l'aide d'un histogramme et d'un boxplot.\n",
        "\n",
        "4. A l'aide d'une fonction spécifique de `Pandas`, calculez la corrélation linéaire de Pearson par paire des variables.\n"
      ],
      "metadata": {
        "id": "7FRhuAFaa3Yy"
      }
    },
    {
      "cell_type": "code",
      "source": [
        "import pandas as pd\n",
        "from sklearn.datasets import load_wine\n",
        "import matplotlib.pyplot as plt\n",
        "\n",
        "wine_data = load_wine()\n",
        "\n",
        "wine_df = pd.DataFrame(data=wine_data.data, columns=wine_data.feature_names)"
      ],
      "metadata": {
        "colab": {
          "base_uri": "https://localhost:8080/",
          "height": 383
        },
        "id": "tlFNsLZ5a7fr",
        "outputId": "1578131a-64d2-4143-a465-6d5787e38a70"
      },
      "execution_count": null,
      "outputs": [
        {
          "output_type": "execute_result",
          "data": {
            "text/plain": [
              "   alcohol  malic_acid   ash  alcalinity_of_ash  magnesium  total_phenols  \\\n",
              "0    14.23        1.71  2.43               15.6      127.0           2.80   \n",
              "1    13.20        1.78  2.14               11.2      100.0           2.65   \n",
              "2    13.16        2.36  2.67               18.6      101.0           2.80   \n",
              "3    14.37        1.95  2.50               16.8      113.0           3.85   \n",
              "4    13.24        2.59  2.87               21.0      118.0           2.80   \n",
              "5    14.20        1.76  2.45               15.2      112.0           3.27   \n",
              "6    14.39        1.87  2.45               14.6       96.0           2.50   \n",
              "7    14.06        2.15  2.61               17.6      121.0           2.60   \n",
              "8    14.83        1.64  2.17               14.0       97.0           2.80   \n",
              "9    13.86        1.35  2.27               16.0       98.0           2.98   \n",
              "\n",
              "   flavanoids  nonflavanoid_phenols  proanthocyanins  color_intensity   hue  \\\n",
              "0        3.06                  0.28             2.29             5.64  1.04   \n",
              "1        2.76                  0.26             1.28             4.38  1.05   \n",
              "2        3.24                  0.30             2.81             5.68  1.03   \n",
              "3        3.49                  0.24             2.18             7.80  0.86   \n",
              "4        2.69                  0.39             1.82             4.32  1.04   \n",
              "5        3.39                  0.34             1.97             6.75  1.05   \n",
              "6        2.52                  0.30             1.98             5.25  1.02   \n",
              "7        2.51                  0.31             1.25             5.05  1.06   \n",
              "8        2.98                  0.29             1.98             5.20  1.08   \n",
              "9        3.15                  0.22             1.85             7.22  1.01   \n",
              "\n",
              "   od280/od315_of_diluted_wines  proline  \n",
              "0                          3.92   1065.0  \n",
              "1                          3.40   1050.0  \n",
              "2                          3.17   1185.0  \n",
              "3                          3.45   1480.0  \n",
              "4                          2.93    735.0  \n",
              "5                          2.85   1450.0  \n",
              "6                          3.58   1290.0  \n",
              "7                          3.58   1295.0  \n",
              "8                          2.85   1045.0  \n",
              "9                          3.55   1045.0  "
            ],
            "text/html": [
              "\n",
              "  <div id=\"df-34946dab-1730-4c4c-a9d2-f094c49d73a9\" class=\"colab-df-container\">\n",
              "    <div>\n",
              "<style scoped>\n",
              "    .dataframe tbody tr th:only-of-type {\n",
              "        vertical-align: middle;\n",
              "    }\n",
              "\n",
              "    .dataframe tbody tr th {\n",
              "        vertical-align: top;\n",
              "    }\n",
              "\n",
              "    .dataframe thead th {\n",
              "        text-align: right;\n",
              "    }\n",
              "</style>\n",
              "<table border=\"1\" class=\"dataframe\">\n",
              "  <thead>\n",
              "    <tr style=\"text-align: right;\">\n",
              "      <th></th>\n",
              "      <th>alcohol</th>\n",
              "      <th>malic_acid</th>\n",
              "      <th>ash</th>\n",
              "      <th>alcalinity_of_ash</th>\n",
              "      <th>magnesium</th>\n",
              "      <th>total_phenols</th>\n",
              "      <th>flavanoids</th>\n",
              "      <th>nonflavanoid_phenols</th>\n",
              "      <th>proanthocyanins</th>\n",
              "      <th>color_intensity</th>\n",
              "      <th>hue</th>\n",
              "      <th>od280/od315_of_diluted_wines</th>\n",
              "      <th>proline</th>\n",
              "    </tr>\n",
              "  </thead>\n",
              "  <tbody>\n",
              "    <tr>\n",
              "      <th>0</th>\n",
              "      <td>14.23</td>\n",
              "      <td>1.71</td>\n",
              "      <td>2.43</td>\n",
              "      <td>15.6</td>\n",
              "      <td>127.0</td>\n",
              "      <td>2.80</td>\n",
              "      <td>3.06</td>\n",
              "      <td>0.28</td>\n",
              "      <td>2.29</td>\n",
              "      <td>5.64</td>\n",
              "      <td>1.04</td>\n",
              "      <td>3.92</td>\n",
              "      <td>1065.0</td>\n",
              "    </tr>\n",
              "    <tr>\n",
              "      <th>1</th>\n",
              "      <td>13.20</td>\n",
              "      <td>1.78</td>\n",
              "      <td>2.14</td>\n",
              "      <td>11.2</td>\n",
              "      <td>100.0</td>\n",
              "      <td>2.65</td>\n",
              "      <td>2.76</td>\n",
              "      <td>0.26</td>\n",
              "      <td>1.28</td>\n",
              "      <td>4.38</td>\n",
              "      <td>1.05</td>\n",
              "      <td>3.40</td>\n",
              "      <td>1050.0</td>\n",
              "    </tr>\n",
              "    <tr>\n",
              "      <th>2</th>\n",
              "      <td>13.16</td>\n",
              "      <td>2.36</td>\n",
              "      <td>2.67</td>\n",
              "      <td>18.6</td>\n",
              "      <td>101.0</td>\n",
              "      <td>2.80</td>\n",
              "      <td>3.24</td>\n",
              "      <td>0.30</td>\n",
              "      <td>2.81</td>\n",
              "      <td>5.68</td>\n",
              "      <td>1.03</td>\n",
              "      <td>3.17</td>\n",
              "      <td>1185.0</td>\n",
              "    </tr>\n",
              "    <tr>\n",
              "      <th>3</th>\n",
              "      <td>14.37</td>\n",
              "      <td>1.95</td>\n",
              "      <td>2.50</td>\n",
              "      <td>16.8</td>\n",
              "      <td>113.0</td>\n",
              "      <td>3.85</td>\n",
              "      <td>3.49</td>\n",
              "      <td>0.24</td>\n",
              "      <td>2.18</td>\n",
              "      <td>7.80</td>\n",
              "      <td>0.86</td>\n",
              "      <td>3.45</td>\n",
              "      <td>1480.0</td>\n",
              "    </tr>\n",
              "    <tr>\n",
              "      <th>4</th>\n",
              "      <td>13.24</td>\n",
              "      <td>2.59</td>\n",
              "      <td>2.87</td>\n",
              "      <td>21.0</td>\n",
              "      <td>118.0</td>\n",
              "      <td>2.80</td>\n",
              "      <td>2.69</td>\n",
              "      <td>0.39</td>\n",
              "      <td>1.82</td>\n",
              "      <td>4.32</td>\n",
              "      <td>1.04</td>\n",
              "      <td>2.93</td>\n",
              "      <td>735.0</td>\n",
              "    </tr>\n",
              "    <tr>\n",
              "      <th>5</th>\n",
              "      <td>14.20</td>\n",
              "      <td>1.76</td>\n",
              "      <td>2.45</td>\n",
              "      <td>15.2</td>\n",
              "      <td>112.0</td>\n",
              "      <td>3.27</td>\n",
              "      <td>3.39</td>\n",
              "      <td>0.34</td>\n",
              "      <td>1.97</td>\n",
              "      <td>6.75</td>\n",
              "      <td>1.05</td>\n",
              "      <td>2.85</td>\n",
              "      <td>1450.0</td>\n",
              "    </tr>\n",
              "    <tr>\n",
              "      <th>6</th>\n",
              "      <td>14.39</td>\n",
              "      <td>1.87</td>\n",
              "      <td>2.45</td>\n",
              "      <td>14.6</td>\n",
              "      <td>96.0</td>\n",
              "      <td>2.50</td>\n",
              "      <td>2.52</td>\n",
              "      <td>0.30</td>\n",
              "      <td>1.98</td>\n",
              "      <td>5.25</td>\n",
              "      <td>1.02</td>\n",
              "      <td>3.58</td>\n",
              "      <td>1290.0</td>\n",
              "    </tr>\n",
              "    <tr>\n",
              "      <th>7</th>\n",
              "      <td>14.06</td>\n",
              "      <td>2.15</td>\n",
              "      <td>2.61</td>\n",
              "      <td>17.6</td>\n",
              "      <td>121.0</td>\n",
              "      <td>2.60</td>\n",
              "      <td>2.51</td>\n",
              "      <td>0.31</td>\n",
              "      <td>1.25</td>\n",
              "      <td>5.05</td>\n",
              "      <td>1.06</td>\n",
              "      <td>3.58</td>\n",
              "      <td>1295.0</td>\n",
              "    </tr>\n",
              "    <tr>\n",
              "      <th>8</th>\n",
              "      <td>14.83</td>\n",
              "      <td>1.64</td>\n",
              "      <td>2.17</td>\n",
              "      <td>14.0</td>\n",
              "      <td>97.0</td>\n",
              "      <td>2.80</td>\n",
              "      <td>2.98</td>\n",
              "      <td>0.29</td>\n",
              "      <td>1.98</td>\n",
              "      <td>5.20</td>\n",
              "      <td>1.08</td>\n",
              "      <td>2.85</td>\n",
              "      <td>1045.0</td>\n",
              "    </tr>\n",
              "    <tr>\n",
              "      <th>9</th>\n",
              "      <td>13.86</td>\n",
              "      <td>1.35</td>\n",
              "      <td>2.27</td>\n",
              "      <td>16.0</td>\n",
              "      <td>98.0</td>\n",
              "      <td>2.98</td>\n",
              "      <td>3.15</td>\n",
              "      <td>0.22</td>\n",
              "      <td>1.85</td>\n",
              "      <td>7.22</td>\n",
              "      <td>1.01</td>\n",
              "      <td>3.55</td>\n",
              "      <td>1045.0</td>\n",
              "    </tr>\n",
              "  </tbody>\n",
              "</table>\n",
              "</div>\n",
              "    <div class=\"colab-df-buttons\">\n",
              "\n",
              "  <div class=\"colab-df-container\">\n",
              "    <button class=\"colab-df-convert\" onclick=\"convertToInteractive('df-34946dab-1730-4c4c-a9d2-f094c49d73a9')\"\n",
              "            title=\"Convert this dataframe to an interactive table.\"\n",
              "            style=\"display:none;\">\n",
              "\n",
              "  <svg xmlns=\"http://www.w3.org/2000/svg\" height=\"24px\" viewBox=\"0 -960 960 960\">\n",
              "    <path d=\"M120-120v-720h720v720H120Zm60-500h600v-160H180v160Zm220 220h160v-160H400v160Zm0 220h160v-160H400v160ZM180-400h160v-160H180v160Zm440 0h160v-160H620v160ZM180-180h160v-160H180v160Zm440 0h160v-160H620v160Z\"/>\n",
              "  </svg>\n",
              "    </button>\n",
              "\n",
              "  <style>\n",
              "    .colab-df-container {\n",
              "      display:flex;\n",
              "      gap: 12px;\n",
              "    }\n",
              "\n",
              "    .colab-df-convert {\n",
              "      background-color: #E8F0FE;\n",
              "      border: none;\n",
              "      border-radius: 50%;\n",
              "      cursor: pointer;\n",
              "      display: none;\n",
              "      fill: #1967D2;\n",
              "      height: 32px;\n",
              "      padding: 0 0 0 0;\n",
              "      width: 32px;\n",
              "    }\n",
              "\n",
              "    .colab-df-convert:hover {\n",
              "      background-color: #E2EBFA;\n",
              "      box-shadow: 0px 1px 2px rgba(60, 64, 67, 0.3), 0px 1px 3px 1px rgba(60, 64, 67, 0.15);\n",
              "      fill: #174EA6;\n",
              "    }\n",
              "\n",
              "    .colab-df-buttons div {\n",
              "      margin-bottom: 4px;\n",
              "    }\n",
              "\n",
              "    [theme=dark] .colab-df-convert {\n",
              "      background-color: #3B4455;\n",
              "      fill: #D2E3FC;\n",
              "    }\n",
              "\n",
              "    [theme=dark] .colab-df-convert:hover {\n",
              "      background-color: #434B5C;\n",
              "      box-shadow: 0px 1px 3px 1px rgba(0, 0, 0, 0.15);\n",
              "      filter: drop-shadow(0px 1px 2px rgba(0, 0, 0, 0.3));\n",
              "      fill: #FFFFFF;\n",
              "    }\n",
              "  </style>\n",
              "\n",
              "    <script>\n",
              "      const buttonEl =\n",
              "        document.querySelector('#df-34946dab-1730-4c4c-a9d2-f094c49d73a9 button.colab-df-convert');\n",
              "      buttonEl.style.display =\n",
              "        google.colab.kernel.accessAllowed ? 'block' : 'none';\n",
              "\n",
              "      async function convertToInteractive(key) {\n",
              "        const element = document.querySelector('#df-34946dab-1730-4c4c-a9d2-f094c49d73a9');\n",
              "        const dataTable =\n",
              "          await google.colab.kernel.invokeFunction('convertToInteractive',\n",
              "                                                    [key], {});\n",
              "        if (!dataTable) return;\n",
              "\n",
              "        const docLinkHtml = 'Like what you see? Visit the ' +\n",
              "          '<a target=\"_blank\" href=https://colab.research.google.com/notebooks/data_table.ipynb>data table notebook</a>'\n",
              "          + ' to learn more about interactive tables.';\n",
              "        element.innerHTML = '';\n",
              "        dataTable['output_type'] = 'display_data';\n",
              "        await google.colab.output.renderOutput(dataTable, element);\n",
              "        const docLink = document.createElement('div');\n",
              "        docLink.innerHTML = docLinkHtml;\n",
              "        element.appendChild(docLink);\n",
              "      }\n",
              "    </script>\n",
              "  </div>\n",
              "\n",
              "\n",
              "<div id=\"df-53af0c2b-b3a4-411e-b846-2fbb982ded3e\">\n",
              "  <button class=\"colab-df-quickchart\" onclick=\"quickchart('df-53af0c2b-b3a4-411e-b846-2fbb982ded3e')\"\n",
              "            title=\"Suggest charts\"\n",
              "            style=\"display:none;\">\n",
              "\n",
              "<svg xmlns=\"http://www.w3.org/2000/svg\" height=\"24px\"viewBox=\"0 0 24 24\"\n",
              "     width=\"24px\">\n",
              "    <g>\n",
              "        <path d=\"M19 3H5c-1.1 0-2 .9-2 2v14c0 1.1.9 2 2 2h14c1.1 0 2-.9 2-2V5c0-1.1-.9-2-2-2zM9 17H7v-7h2v7zm4 0h-2V7h2v10zm4 0h-2v-4h2v4z\"/>\n",
              "    </g>\n",
              "</svg>\n",
              "  </button>\n",
              "\n",
              "<style>\n",
              "  .colab-df-quickchart {\n",
              "      --bg-color: #E8F0FE;\n",
              "      --fill-color: #1967D2;\n",
              "      --hover-bg-color: #E2EBFA;\n",
              "      --hover-fill-color: #174EA6;\n",
              "      --disabled-fill-color: #AAA;\n",
              "      --disabled-bg-color: #DDD;\n",
              "  }\n",
              "\n",
              "  [theme=dark] .colab-df-quickchart {\n",
              "      --bg-color: #3B4455;\n",
              "      --fill-color: #D2E3FC;\n",
              "      --hover-bg-color: #434B5C;\n",
              "      --hover-fill-color: #FFFFFF;\n",
              "      --disabled-bg-color: #3B4455;\n",
              "      --disabled-fill-color: #666;\n",
              "  }\n",
              "\n",
              "  .colab-df-quickchart {\n",
              "    background-color: var(--bg-color);\n",
              "    border: none;\n",
              "    border-radius: 50%;\n",
              "    cursor: pointer;\n",
              "    display: none;\n",
              "    fill: var(--fill-color);\n",
              "    height: 32px;\n",
              "    padding: 0;\n",
              "    width: 32px;\n",
              "  }\n",
              "\n",
              "  .colab-df-quickchart:hover {\n",
              "    background-color: var(--hover-bg-color);\n",
              "    box-shadow: 0 1px 2px rgba(60, 64, 67, 0.3), 0 1px 3px 1px rgba(60, 64, 67, 0.15);\n",
              "    fill: var(--button-hover-fill-color);\n",
              "  }\n",
              "\n",
              "  .colab-df-quickchart-complete:disabled,\n",
              "  .colab-df-quickchart-complete:disabled:hover {\n",
              "    background-color: var(--disabled-bg-color);\n",
              "    fill: var(--disabled-fill-color);\n",
              "    box-shadow: none;\n",
              "  }\n",
              "\n",
              "  .colab-df-spinner {\n",
              "    border: 2px solid var(--fill-color);\n",
              "    border-color: transparent;\n",
              "    border-bottom-color: var(--fill-color);\n",
              "    animation:\n",
              "      spin 1s steps(1) infinite;\n",
              "  }\n",
              "\n",
              "  @keyframes spin {\n",
              "    0% {\n",
              "      border-color: transparent;\n",
              "      border-bottom-color: var(--fill-color);\n",
              "      border-left-color: var(--fill-color);\n",
              "    }\n",
              "    20% {\n",
              "      border-color: transparent;\n",
              "      border-left-color: var(--fill-color);\n",
              "      border-top-color: var(--fill-color);\n",
              "    }\n",
              "    30% {\n",
              "      border-color: transparent;\n",
              "      border-left-color: var(--fill-color);\n",
              "      border-top-color: var(--fill-color);\n",
              "      border-right-color: var(--fill-color);\n",
              "    }\n",
              "    40% {\n",
              "      border-color: transparent;\n",
              "      border-right-color: var(--fill-color);\n",
              "      border-top-color: var(--fill-color);\n",
              "    }\n",
              "    60% {\n",
              "      border-color: transparent;\n",
              "      border-right-color: var(--fill-color);\n",
              "    }\n",
              "    80% {\n",
              "      border-color: transparent;\n",
              "      border-right-color: var(--fill-color);\n",
              "      border-bottom-color: var(--fill-color);\n",
              "    }\n",
              "    90% {\n",
              "      border-color: transparent;\n",
              "      border-bottom-color: var(--fill-color);\n",
              "    }\n",
              "  }\n",
              "</style>\n",
              "\n",
              "  <script>\n",
              "    async function quickchart(key) {\n",
              "      const quickchartButtonEl =\n",
              "        document.querySelector('#' + key + ' button');\n",
              "      quickchartButtonEl.disabled = true;  // To prevent multiple clicks.\n",
              "      quickchartButtonEl.classList.add('colab-df-spinner');\n",
              "      try {\n",
              "        const charts = await google.colab.kernel.invokeFunction(\n",
              "            'suggestCharts', [key], {});\n",
              "      } catch (error) {\n",
              "        console.error('Error during call to suggestCharts:', error);\n",
              "      }\n",
              "      quickchartButtonEl.classList.remove('colab-df-spinner');\n",
              "      quickchartButtonEl.classList.add('colab-df-quickchart-complete');\n",
              "    }\n",
              "    (() => {\n",
              "      let quickchartButtonEl =\n",
              "        document.querySelector('#df-53af0c2b-b3a4-411e-b846-2fbb982ded3e button');\n",
              "      quickchartButtonEl.style.display =\n",
              "        google.colab.kernel.accessAllowed ? 'block' : 'none';\n",
              "    })();\n",
              "  </script>\n",
              "</div>\n",
              "    </div>\n",
              "  </div>\n"
            ]
          },
          "metadata": {},
          "execution_count": 134
        }
      ]
    },
    {
      "cell_type": "code",
      "source": [
        "wine_df.info()"
      ],
      "metadata": {
        "colab": {
          "base_uri": "https://localhost:8080/"
        },
        "id": "0cYKyL8WlJts",
        "outputId": "74ba649b-c741-4261-b3e4-2edb24429244"
      },
      "execution_count": null,
      "outputs": [
        {
          "output_type": "stream",
          "name": "stdout",
          "text": [
            "<class 'pandas.core.frame.DataFrame'>\n",
            "RangeIndex: 178 entries, 0 to 177\n",
            "Data columns (total 13 columns):\n",
            " #   Column                        Non-Null Count  Dtype  \n",
            "---  ------                        --------------  -----  \n",
            " 0   alcohol                       178 non-null    float64\n",
            " 1   malic_acid                    178 non-null    float64\n",
            " 2   ash                           178 non-null    float64\n",
            " 3   alcalinity_of_ash             178 non-null    float64\n",
            " 4   magnesium                     178 non-null    float64\n",
            " 5   total_phenols                 178 non-null    float64\n",
            " 6   flavanoids                    178 non-null    float64\n",
            " 7   nonflavanoid_phenols          178 non-null    float64\n",
            " 8   proanthocyanins               178 non-null    float64\n",
            " 9   color_intensity               178 non-null    float64\n",
            " 10  hue                           178 non-null    float64\n",
            " 11  od280/od315_of_diluted_wines  178 non-null    float64\n",
            " 12  proline                       178 non-null    float64\n",
            "dtypes: float64(13)\n",
            "memory usage: 18.2 KB\n"
          ]
        }
      ]
    },
    {
      "cell_type": "code",
      "source": [
        "wine_df.describe()"
      ],
      "metadata": {
        "colab": {
          "base_uri": "https://localhost:8080/",
          "height": 320
        },
        "id": "f0L49kSPlP5N",
        "outputId": "6982fdbe-62a4-48dd-8774-8c200a973f63"
      },
      "execution_count": null,
      "outputs": [
        {
          "output_type": "execute_result",
          "data": {
            "text/plain": [
              "          alcohol  malic_acid         ash  alcalinity_of_ash   magnesium  \\\n",
              "count  178.000000  178.000000  178.000000         178.000000  178.000000   \n",
              "mean    13.000618    2.336348    2.366517          19.494944   99.741573   \n",
              "std      0.811827    1.117146    0.274344           3.339564   14.282484   \n",
              "min     11.030000    0.740000    1.360000          10.600000   70.000000   \n",
              "25%     12.362500    1.602500    2.210000          17.200000   88.000000   \n",
              "50%     13.050000    1.865000    2.360000          19.500000   98.000000   \n",
              "75%     13.677500    3.082500    2.557500          21.500000  107.000000   \n",
              "max     14.830000    5.800000    3.230000          30.000000  162.000000   \n",
              "\n",
              "       total_phenols  flavanoids  nonflavanoid_phenols  proanthocyanins  \\\n",
              "count     178.000000  178.000000            178.000000       178.000000   \n",
              "mean        2.295112    2.029270              0.361854         1.590899   \n",
              "std         0.625851    0.998859              0.124453         0.572359   \n",
              "min         0.980000    0.340000              0.130000         0.410000   \n",
              "25%         1.742500    1.205000              0.270000         1.250000   \n",
              "50%         2.355000    2.135000              0.340000         1.555000   \n",
              "75%         2.800000    2.875000              0.437500         1.950000   \n",
              "max         3.880000    5.080000              0.660000         3.580000   \n",
              "\n",
              "       color_intensity         hue  od280/od315_of_diluted_wines      proline  \n",
              "count       178.000000  178.000000                    178.000000   178.000000  \n",
              "mean          5.058090    0.957449                      2.611685   746.893258  \n",
              "std           2.318286    0.228572                      0.709990   314.907474  \n",
              "min           1.280000    0.480000                      1.270000   278.000000  \n",
              "25%           3.220000    0.782500                      1.937500   500.500000  \n",
              "50%           4.690000    0.965000                      2.780000   673.500000  \n",
              "75%           6.200000    1.120000                      3.170000   985.000000  \n",
              "max          13.000000    1.710000                      4.000000  1680.000000  "
            ],
            "text/html": [
              "\n",
              "  <div id=\"df-a0eed2ee-9836-4b12-bcba-76498ec60129\" class=\"colab-df-container\">\n",
              "    <div>\n",
              "<style scoped>\n",
              "    .dataframe tbody tr th:only-of-type {\n",
              "        vertical-align: middle;\n",
              "    }\n",
              "\n",
              "    .dataframe tbody tr th {\n",
              "        vertical-align: top;\n",
              "    }\n",
              "\n",
              "    .dataframe thead th {\n",
              "        text-align: right;\n",
              "    }\n",
              "</style>\n",
              "<table border=\"1\" class=\"dataframe\">\n",
              "  <thead>\n",
              "    <tr style=\"text-align: right;\">\n",
              "      <th></th>\n",
              "      <th>alcohol</th>\n",
              "      <th>malic_acid</th>\n",
              "      <th>ash</th>\n",
              "      <th>alcalinity_of_ash</th>\n",
              "      <th>magnesium</th>\n",
              "      <th>total_phenols</th>\n",
              "      <th>flavanoids</th>\n",
              "      <th>nonflavanoid_phenols</th>\n",
              "      <th>proanthocyanins</th>\n",
              "      <th>color_intensity</th>\n",
              "      <th>hue</th>\n",
              "      <th>od280/od315_of_diluted_wines</th>\n",
              "      <th>proline</th>\n",
              "    </tr>\n",
              "  </thead>\n",
              "  <tbody>\n",
              "    <tr>\n",
              "      <th>count</th>\n",
              "      <td>178.000000</td>\n",
              "      <td>178.000000</td>\n",
              "      <td>178.000000</td>\n",
              "      <td>178.000000</td>\n",
              "      <td>178.000000</td>\n",
              "      <td>178.000000</td>\n",
              "      <td>178.000000</td>\n",
              "      <td>178.000000</td>\n",
              "      <td>178.000000</td>\n",
              "      <td>178.000000</td>\n",
              "      <td>178.000000</td>\n",
              "      <td>178.000000</td>\n",
              "      <td>178.000000</td>\n",
              "    </tr>\n",
              "    <tr>\n",
              "      <th>mean</th>\n",
              "      <td>13.000618</td>\n",
              "      <td>2.336348</td>\n",
              "      <td>2.366517</td>\n",
              "      <td>19.494944</td>\n",
              "      <td>99.741573</td>\n",
              "      <td>2.295112</td>\n",
              "      <td>2.029270</td>\n",
              "      <td>0.361854</td>\n",
              "      <td>1.590899</td>\n",
              "      <td>5.058090</td>\n",
              "      <td>0.957449</td>\n",
              "      <td>2.611685</td>\n",
              "      <td>746.893258</td>\n",
              "    </tr>\n",
              "    <tr>\n",
              "      <th>std</th>\n",
              "      <td>0.811827</td>\n",
              "      <td>1.117146</td>\n",
              "      <td>0.274344</td>\n",
              "      <td>3.339564</td>\n",
              "      <td>14.282484</td>\n",
              "      <td>0.625851</td>\n",
              "      <td>0.998859</td>\n",
              "      <td>0.124453</td>\n",
              "      <td>0.572359</td>\n",
              "      <td>2.318286</td>\n",
              "      <td>0.228572</td>\n",
              "      <td>0.709990</td>\n",
              "      <td>314.907474</td>\n",
              "    </tr>\n",
              "    <tr>\n",
              "      <th>min</th>\n",
              "      <td>11.030000</td>\n",
              "      <td>0.740000</td>\n",
              "      <td>1.360000</td>\n",
              "      <td>10.600000</td>\n",
              "      <td>70.000000</td>\n",
              "      <td>0.980000</td>\n",
              "      <td>0.340000</td>\n",
              "      <td>0.130000</td>\n",
              "      <td>0.410000</td>\n",
              "      <td>1.280000</td>\n",
              "      <td>0.480000</td>\n",
              "      <td>1.270000</td>\n",
              "      <td>278.000000</td>\n",
              "    </tr>\n",
              "    <tr>\n",
              "      <th>25%</th>\n",
              "      <td>12.362500</td>\n",
              "      <td>1.602500</td>\n",
              "      <td>2.210000</td>\n",
              "      <td>17.200000</td>\n",
              "      <td>88.000000</td>\n",
              "      <td>1.742500</td>\n",
              "      <td>1.205000</td>\n",
              "      <td>0.270000</td>\n",
              "      <td>1.250000</td>\n",
              "      <td>3.220000</td>\n",
              "      <td>0.782500</td>\n",
              "      <td>1.937500</td>\n",
              "      <td>500.500000</td>\n",
              "    </tr>\n",
              "    <tr>\n",
              "      <th>50%</th>\n",
              "      <td>13.050000</td>\n",
              "      <td>1.865000</td>\n",
              "      <td>2.360000</td>\n",
              "      <td>19.500000</td>\n",
              "      <td>98.000000</td>\n",
              "      <td>2.355000</td>\n",
              "      <td>2.135000</td>\n",
              "      <td>0.340000</td>\n",
              "      <td>1.555000</td>\n",
              "      <td>4.690000</td>\n",
              "      <td>0.965000</td>\n",
              "      <td>2.780000</td>\n",
              "      <td>673.500000</td>\n",
              "    </tr>\n",
              "    <tr>\n",
              "      <th>75%</th>\n",
              "      <td>13.677500</td>\n",
              "      <td>3.082500</td>\n",
              "      <td>2.557500</td>\n",
              "      <td>21.500000</td>\n",
              "      <td>107.000000</td>\n",
              "      <td>2.800000</td>\n",
              "      <td>2.875000</td>\n",
              "      <td>0.437500</td>\n",
              "      <td>1.950000</td>\n",
              "      <td>6.200000</td>\n",
              "      <td>1.120000</td>\n",
              "      <td>3.170000</td>\n",
              "      <td>985.000000</td>\n",
              "    </tr>\n",
              "    <tr>\n",
              "      <th>max</th>\n",
              "      <td>14.830000</td>\n",
              "      <td>5.800000</td>\n",
              "      <td>3.230000</td>\n",
              "      <td>30.000000</td>\n",
              "      <td>162.000000</td>\n",
              "      <td>3.880000</td>\n",
              "      <td>5.080000</td>\n",
              "      <td>0.660000</td>\n",
              "      <td>3.580000</td>\n",
              "      <td>13.000000</td>\n",
              "      <td>1.710000</td>\n",
              "      <td>4.000000</td>\n",
              "      <td>1680.000000</td>\n",
              "    </tr>\n",
              "  </tbody>\n",
              "</table>\n",
              "</div>\n",
              "    <div class=\"colab-df-buttons\">\n",
              "\n",
              "  <div class=\"colab-df-container\">\n",
              "    <button class=\"colab-df-convert\" onclick=\"convertToInteractive('df-a0eed2ee-9836-4b12-bcba-76498ec60129')\"\n",
              "            title=\"Convert this dataframe to an interactive table.\"\n",
              "            style=\"display:none;\">\n",
              "\n",
              "  <svg xmlns=\"http://www.w3.org/2000/svg\" height=\"24px\" viewBox=\"0 -960 960 960\">\n",
              "    <path d=\"M120-120v-720h720v720H120Zm60-500h600v-160H180v160Zm220 220h160v-160H400v160Zm0 220h160v-160H400v160ZM180-400h160v-160H180v160Zm440 0h160v-160H620v160ZM180-180h160v-160H180v160Zm440 0h160v-160H620v160Z\"/>\n",
              "  </svg>\n",
              "    </button>\n",
              "\n",
              "  <style>\n",
              "    .colab-df-container {\n",
              "      display:flex;\n",
              "      gap: 12px;\n",
              "    }\n",
              "\n",
              "    .colab-df-convert {\n",
              "      background-color: #E8F0FE;\n",
              "      border: none;\n",
              "      border-radius: 50%;\n",
              "      cursor: pointer;\n",
              "      display: none;\n",
              "      fill: #1967D2;\n",
              "      height: 32px;\n",
              "      padding: 0 0 0 0;\n",
              "      width: 32px;\n",
              "    }\n",
              "\n",
              "    .colab-df-convert:hover {\n",
              "      background-color: #E2EBFA;\n",
              "      box-shadow: 0px 1px 2px rgba(60, 64, 67, 0.3), 0px 1px 3px 1px rgba(60, 64, 67, 0.15);\n",
              "      fill: #174EA6;\n",
              "    }\n",
              "\n",
              "    .colab-df-buttons div {\n",
              "      margin-bottom: 4px;\n",
              "    }\n",
              "\n",
              "    [theme=dark] .colab-df-convert {\n",
              "      background-color: #3B4455;\n",
              "      fill: #D2E3FC;\n",
              "    }\n",
              "\n",
              "    [theme=dark] .colab-df-convert:hover {\n",
              "      background-color: #434B5C;\n",
              "      box-shadow: 0px 1px 3px 1px rgba(0, 0, 0, 0.15);\n",
              "      filter: drop-shadow(0px 1px 2px rgba(0, 0, 0, 0.3));\n",
              "      fill: #FFFFFF;\n",
              "    }\n",
              "  </style>\n",
              "\n",
              "    <script>\n",
              "      const buttonEl =\n",
              "        document.querySelector('#df-a0eed2ee-9836-4b12-bcba-76498ec60129 button.colab-df-convert');\n",
              "      buttonEl.style.display =\n",
              "        google.colab.kernel.accessAllowed ? 'block' : 'none';\n",
              "\n",
              "      async function convertToInteractive(key) {\n",
              "        const element = document.querySelector('#df-a0eed2ee-9836-4b12-bcba-76498ec60129');\n",
              "        const dataTable =\n",
              "          await google.colab.kernel.invokeFunction('convertToInteractive',\n",
              "                                                    [key], {});\n",
              "        if (!dataTable) return;\n",
              "\n",
              "        const docLinkHtml = 'Like what you see? Visit the ' +\n",
              "          '<a target=\"_blank\" href=https://colab.research.google.com/notebooks/data_table.ipynb>data table notebook</a>'\n",
              "          + ' to learn more about interactive tables.';\n",
              "        element.innerHTML = '';\n",
              "        dataTable['output_type'] = 'display_data';\n",
              "        await google.colab.output.renderOutput(dataTable, element);\n",
              "        const docLink = document.createElement('div');\n",
              "        docLink.innerHTML = docLinkHtml;\n",
              "        element.appendChild(docLink);\n",
              "      }\n",
              "    </script>\n",
              "  </div>\n",
              "\n",
              "\n",
              "<div id=\"df-9f724b50-d703-42df-b60d-0984fe6b7b42\">\n",
              "  <button class=\"colab-df-quickchart\" onclick=\"quickchart('df-9f724b50-d703-42df-b60d-0984fe6b7b42')\"\n",
              "            title=\"Suggest charts\"\n",
              "            style=\"display:none;\">\n",
              "\n",
              "<svg xmlns=\"http://www.w3.org/2000/svg\" height=\"24px\"viewBox=\"0 0 24 24\"\n",
              "     width=\"24px\">\n",
              "    <g>\n",
              "        <path d=\"M19 3H5c-1.1 0-2 .9-2 2v14c0 1.1.9 2 2 2h14c1.1 0 2-.9 2-2V5c0-1.1-.9-2-2-2zM9 17H7v-7h2v7zm4 0h-2V7h2v10zm4 0h-2v-4h2v4z\"/>\n",
              "    </g>\n",
              "</svg>\n",
              "  </button>\n",
              "\n",
              "<style>\n",
              "  .colab-df-quickchart {\n",
              "      --bg-color: #E8F0FE;\n",
              "      --fill-color: #1967D2;\n",
              "      --hover-bg-color: #E2EBFA;\n",
              "      --hover-fill-color: #174EA6;\n",
              "      --disabled-fill-color: #AAA;\n",
              "      --disabled-bg-color: #DDD;\n",
              "  }\n",
              "\n",
              "  [theme=dark] .colab-df-quickchart {\n",
              "      --bg-color: #3B4455;\n",
              "      --fill-color: #D2E3FC;\n",
              "      --hover-bg-color: #434B5C;\n",
              "      --hover-fill-color: #FFFFFF;\n",
              "      --disabled-bg-color: #3B4455;\n",
              "      --disabled-fill-color: #666;\n",
              "  }\n",
              "\n",
              "  .colab-df-quickchart {\n",
              "    background-color: var(--bg-color);\n",
              "    border: none;\n",
              "    border-radius: 50%;\n",
              "    cursor: pointer;\n",
              "    display: none;\n",
              "    fill: var(--fill-color);\n",
              "    height: 32px;\n",
              "    padding: 0;\n",
              "    width: 32px;\n",
              "  }\n",
              "\n",
              "  .colab-df-quickchart:hover {\n",
              "    background-color: var(--hover-bg-color);\n",
              "    box-shadow: 0 1px 2px rgba(60, 64, 67, 0.3), 0 1px 3px 1px rgba(60, 64, 67, 0.15);\n",
              "    fill: var(--button-hover-fill-color);\n",
              "  }\n",
              "\n",
              "  .colab-df-quickchart-complete:disabled,\n",
              "  .colab-df-quickchart-complete:disabled:hover {\n",
              "    background-color: var(--disabled-bg-color);\n",
              "    fill: var(--disabled-fill-color);\n",
              "    box-shadow: none;\n",
              "  }\n",
              "\n",
              "  .colab-df-spinner {\n",
              "    border: 2px solid var(--fill-color);\n",
              "    border-color: transparent;\n",
              "    border-bottom-color: var(--fill-color);\n",
              "    animation:\n",
              "      spin 1s steps(1) infinite;\n",
              "  }\n",
              "\n",
              "  @keyframes spin {\n",
              "    0% {\n",
              "      border-color: transparent;\n",
              "      border-bottom-color: var(--fill-color);\n",
              "      border-left-color: var(--fill-color);\n",
              "    }\n",
              "    20% {\n",
              "      border-color: transparent;\n",
              "      border-left-color: var(--fill-color);\n",
              "      border-top-color: var(--fill-color);\n",
              "    }\n",
              "    30% {\n",
              "      border-color: transparent;\n",
              "      border-left-color: var(--fill-color);\n",
              "      border-top-color: var(--fill-color);\n",
              "      border-right-color: var(--fill-color);\n",
              "    }\n",
              "    40% {\n",
              "      border-color: transparent;\n",
              "      border-right-color: var(--fill-color);\n",
              "      border-top-color: var(--fill-color);\n",
              "    }\n",
              "    60% {\n",
              "      border-color: transparent;\n",
              "      border-right-color: var(--fill-color);\n",
              "    }\n",
              "    80% {\n",
              "      border-color: transparent;\n",
              "      border-right-color: var(--fill-color);\n",
              "      border-bottom-color: var(--fill-color);\n",
              "    }\n",
              "    90% {\n",
              "      border-color: transparent;\n",
              "      border-bottom-color: var(--fill-color);\n",
              "    }\n",
              "  }\n",
              "</style>\n",
              "\n",
              "  <script>\n",
              "    async function quickchart(key) {\n",
              "      const quickchartButtonEl =\n",
              "        document.querySelector('#' + key + ' button');\n",
              "      quickchartButtonEl.disabled = true;  // To prevent multiple clicks.\n",
              "      quickchartButtonEl.classList.add('colab-df-spinner');\n",
              "      try {\n",
              "        const charts = await google.colab.kernel.invokeFunction(\n",
              "            'suggestCharts', [key], {});\n",
              "      } catch (error) {\n",
              "        console.error('Error during call to suggestCharts:', error);\n",
              "      }\n",
              "      quickchartButtonEl.classList.remove('colab-df-spinner');\n",
              "      quickchartButtonEl.classList.add('colab-df-quickchart-complete');\n",
              "    }\n",
              "    (() => {\n",
              "      let quickchartButtonEl =\n",
              "        document.querySelector('#df-9f724b50-d703-42df-b60d-0984fe6b7b42 button');\n",
              "      quickchartButtonEl.style.display =\n",
              "        google.colab.kernel.accessAllowed ? 'block' : 'none';\n",
              "    })();\n",
              "  </script>\n",
              "</div>\n",
              "    </div>\n",
              "  </div>\n"
            ]
          },
          "metadata": {},
          "execution_count": 121
        }
      ]
    },
    {
      "cell_type": "code",
      "source": [
        "alcohol = wine_df['alcohol']\n",
        "\n",
        "fig, (ax1, ax2) = plt.subplots(1, 2, figsize=(12, 5))\n",
        "\n",
        "ax1.set_title(\"Histogramme du nombre de vin en fonction du taux d'alcool\")\n",
        "ax1.hist(alcohol, edgecolor='k')\n",
        "\n",
        "ax2.set_title(\"Boxplot du taux d'alcool\")\n",
        "ax2.boxplot(alcohol, vert=False)\n",
        "\n",
        "plt.show()"
      ],
      "metadata": {
        "colab": {
          "base_uri": "https://localhost:8080/",
          "height": 468
        },
        "id": "hjDqd92zlXoD",
        "outputId": "a724ecea-298d-4256-bd1c-e836654d0ffa"
      },
      "execution_count": null,
      "outputs": [
        {
          "output_type": "display_data",
          "data": {
            "text/plain": [
              "<Figure size 1200x500 with 2 Axes>"
            ],
            "image/png": "[encoded data removed]"
          },
          "metadata": {}
        }
      ]
    },
    {
      "cell_type": "code",
      "source": [
        "malic_acid = wine_df['malic_acid']\n",
        "\n",
        "fig, (ax1, ax2) = plt.subplots(1, 2, figsize=(12, 5))\n",
        "\n",
        "ax1.set_title(\"Histogramme du nombre de vin en fonction du taux d'acide malique\")\n",
        "ax1.hist(malic_acid, edgecolor='k')\n",
        "\n",
        "ax2.set_title(\"Boxplot du taux d'acide malique\")\n",
        "ax2.boxplot(malic_acid, vert=False)\n",
        "\n",
        "plt.show()"
      ],
      "metadata": {
        "colab": {
          "base_uri": "https://localhost:8080/",
          "height": 468
        },
        "id": "qExjX4bdyixn",
        "outputId": "41e11366-2783-4d72-b298-da4ca19bf41b"
      },
      "execution_count": null,
      "outputs": [
        {
          "output_type": "display_data",
          "data": {
            "text/plain": [
              "<Figure size 1200x500 with 2 Axes>"
            ],
            "image/png": "[encoded data removed]"
          },
          "metadata": {}
        }
      ]
    },
    {
      "cell_type": "code",
      "source": [
        "ash = wine_df['ash']\n",
        "\n",
        "fig, (ax1, ax2) = plt.subplots(1, 2, figsize=(12, 5))\n",
        "\n",
        "ax1.set_title(\"Histogramme du nombre de vin en fonction du taux d'ash\")\n",
        "ax1.hist(ash, edgecolor='k')\n",
        "\n",
        "ax2.set_title(\"Boxplot du taux d'ash\")\n",
        "ax2.boxplot(ash, vert=False)\n",
        "\n",
        "plt.show()"
      ],
      "metadata": {
        "colab": {
          "base_uri": "https://localhost:8080/",
          "height": 468
        },
        "id": "3BMRs3Dtyzx6",
        "outputId": "3630b162-1bb7-495c-f7e0-4f79acc2b764"
      },
      "execution_count": null,
      "outputs": [
        {
          "output_type": "display_data",
          "data": {
            "text/plain": [
              "<Figure size 1200x500 with 2 Axes>"
            ],
            "image/png": "[encoded data removed]"
          },
          "metadata": {}
        }
      ]
    },
    {
      "cell_type": "code",
      "source": [
        "alcalinity_of_ash = wine_df['alcalinity_of_ash']\n",
        "\n",
        "fig, (ax1, ax2) = plt.subplots(1, 2, figsize=(12, 5))\n",
        "\n",
        "ax1.set_title(\"Histogramme du nombre de vin en fonction du taux d'alcalinité de l'ash\")\n",
        "ax1.hist(alcalinity_of_ash, edgecolor='k')\n",
        "\n",
        "ax2.set_title(\"Boxplot du taux d'alcalinité de l'ash\")\n",
        "ax2.boxplot(alcalinity_of_ash, vert=False)\n",
        "\n",
        "plt.show()"
      ],
      "metadata": {
        "colab": {
          "base_uri": "https://localhost:8080/",
          "height": 468
        },
        "id": "MNSrXcyYzSQu",
        "outputId": "5f612908-82b9-4d87-e394-c949d8296eed"
      },
      "execution_count": null,
      "outputs": [
        {
          "output_type": "display_data",
          "data": {
            "text/plain": [
              "<Figure size 1200x500 with 2 Axes>"
            ],
            "image/png": "[encoded data removed]"
          },
          "metadata": {}
        }
      ]
    },
    {
      "cell_type": "code",
      "source": [
        "magnesium = wine_df['magnesium']\n",
        "\n",
        "fig, (ax1, ax2) = plt.subplots(1, 2, figsize=(12, 5))\n",
        "\n",
        "ax1.set_title(\"Histogramme du nombre de vin en fonction du taux d'alcalinité de magnésium\")\n",
        "ax1.hist(magnesium, edgecolor='k')\n",
        "\n",
        "ax2.set_title(\"Boxplot du taux d'alcalinité de magnésium\")\n",
        "ax2.boxplot(magnesium, vert=False)\n",
        "\n",
        "plt.show()"
      ],
      "metadata": {
        "colab": {
          "base_uri": "https://localhost:8080/",
          "height": 468
        },
        "id": "VOw6F66Ezh_D",
        "outputId": "dd7dbc1e-1c23-402c-da61-f7c54a8e3302"
      },
      "execution_count": null,
      "outputs": [
        {
          "output_type": "display_data",
          "data": {
            "text/plain": [
              "<Figure size 1200x500 with 2 Axes>"
            ],
            "image/png": "[encoded data removed]"
          },
          "metadata": {}
        }
      ]
    },
    {
      "cell_type": "code",
      "source": [
        "total_phenols = wine_df['total_phenols']\n",
        "\n",
        "fig, (ax1, ax2) = plt.subplots(1, 2, figsize=(12, 5))\n",
        "\n",
        "ax1.set_title(\"Histogramme du nombre de vin en fonction du taux d'alcalinité de phénols\")\n",
        "ax1.hist(total_phenols, edgecolor='k')\n",
        "\n",
        "ax2.set_title(\"Boxplot du taux d'alcalinité de phénols\")\n",
        "ax2.boxplot(total_phenols, vert=False)\n",
        "\n",
        "plt.show()"
      ],
      "metadata": {
        "colab": {
          "base_uri": "https://localhost:8080/",
          "height": 468
        },
        "id": "tw5Vy-7dzsNN",
        "outputId": "67321c16-b7ae-4e7e-bd24-88ce8f824203"
      },
      "execution_count": null,
      "outputs": [
        {
          "output_type": "display_data",
          "data": {
            "text/plain": [
              "<Figure size 1200x500 with 2 Axes>"
            ],
            "image/png": "[encoded data removed]"
          },
          "metadata": {}
        }
      ]
    },
    {
      "cell_type": "code",
      "source": [
        "flavanoids = wine_df['flavanoids']\n",
        "\n",
        "fig, (ax1, ax2) = plt.subplots(1, 2, figsize=(12, 5))\n",
        "\n",
        "ax1.set_title(\"Histogramme du nombre de vin en fonction du taux d'alcalinité de flavanoids\")\n",
        "ax1.hist(flavanoids, edgecolor='k')\n",
        "\n",
        "ax2.set_title(\"Boxplot du taux d'alcalinité de flavanoids\")\n",
        "ax2.boxplot(flavanoids, vert=False)\n",
        "\n",
        "plt.show()"
      ],
      "metadata": {
        "colab": {
          "base_uri": "https://localhost:8080/",
          "height": 468
        },
        "id": "NIENaembz3Q5",
        "outputId": "484fafb3-a0ef-4bd7-a679-55d88e2197cd"
      },
      "execution_count": null,
      "outputs": [
        {
          "output_type": "display_data",
          "data": {
            "text/plain": [
              "<Figure size 1200x500 with 2 Axes>"
            ],
            "image/png": "[encoded data removed]"
          },
          "metadata": {}
        }
      ]
    },
    {
      "cell_type": "code",
      "source": [
        "nonflavanoid_phenols = wine_df['nonflavanoid_phenols']\n",
        "\n",
        "fig, (ax1, ax2) = plt.subplots(1, 2, figsize=(12, 5))\n",
        "\n",
        "ax1.set_title(\"Histogramme du nombre de vin en fonction du taux d'alcalinité de phénols non flavonoides\")\n",
        "ax1.hist(nonflavanoid_phenols, edgecolor='k')\n",
        "\n",
        "ax2.set_title(\"Boxplot du taux d'alcalinité de phénols non flavonoides\")\n",
        "ax2.boxplot(nonflavanoid_phenols, vert=False)\n",
        "\n",
        "plt.show()"
      ],
      "metadata": {
        "colab": {
          "base_uri": "https://localhost:8080/",
          "height": 468
        },
        "id": "13CVX16C0BOs",
        "outputId": "59087fa0-3d19-4be9-9f86-70a39e681b9c"
      },
      "execution_count": null,
      "outputs": [
        {
          "output_type": "display_data",
          "data": {
            "text/plain": [
              "<Figure size 1200x500 with 2 Axes>"
            ],
            "image/png": "[encoded data removed]"
          },
          "metadata": {}
        }
      ]
    },
    {
      "cell_type": "code",
      "source": [
        "proanthocyanins = wine_df['proanthocyanins']\n",
        "\n",
        "fig, (ax1, ax2) = plt.subplots(1, 2, figsize=(12, 5))\n",
        "\n",
        "ax1.set_title(\"Histogramme du nombre de vin en fonction du taux d'alcalinité de proanthocyanins\")\n",
        "ax1.hist(proanthocyanins, edgecolor='k')\n",
        "\n",
        "ax2.set_title(\"Boxplot du taux d'alcalinité de proanthocyanins\")\n",
        "ax2.boxplot(proanthocyanins, vert=False)\n",
        "\n",
        "plt.show()"
      ],
      "metadata": {
        "colab": {
          "base_uri": "https://localhost:8080/",
          "height": 468
        },
        "id": "acoPK5lK0Pyg",
        "outputId": "48a384ca-7f34-42be-ac54-a117d121c87e"
      },
      "execution_count": null,
      "outputs": [
        {
          "output_type": "display_data",
          "data": {
            "text/plain": [
              "<Figure size 1200x500 with 2 Axes>"
            ],
            "image/png": "[encoded data removed]"
          },
          "metadata": {}
        }
      ]
    },
    {
      "cell_type": "code",
      "source": [
        "color_intensity = wine_df['color_intensity']\n",
        "\n",
        "fig, (ax1, ax2) = plt.subplots(1, 2, figsize=(12, 5))\n",
        "\n",
        "ax1.set_title(\"Histogramme du nombre de vin en fonction de l'intensité de couleur\")\n",
        "ax1.hist(color_intensity, edgecolor='k')\n",
        "\n",
        "ax2.set_title(\"Boxplot du taux d'alcalinité de l'intensité de couleur\")\n",
        "ax2.boxplot(color_intensity, vert=False)\n",
        "\n",
        "plt.show()"
      ],
      "metadata": {
        "colab": {
          "base_uri": "https://localhost:8080/",
          "height": 468
        },
        "id": "8fxmSVNE0iA8",
        "outputId": "8b87698b-1786-4d7a-83ba-358a537f1ee3"
      },
      "execution_count": null,
      "outputs": [
        {
          "output_type": "display_data",
          "data": {
            "text/plain": [
              "<Figure size 1200x500 with 2 Axes>"
            ],
            "image/png": "[encoded data removed]"
          },
          "metadata": {}
        }
      ]
    },
    {
      "cell_type": "code",
      "source": [
        "hue = wine_df['hue']\n",
        "\n",
        "fig, (ax1, ax2) = plt.subplots(1, 2, figsize=(12, 5))\n",
        "\n",
        "ax1.set_title(\"Histogramme du nombre de vin en fonction du hue\")\n",
        "ax1.hist(hue, edgecolor='k')\n",
        "\n",
        "ax2.set_title(\"Boxplot du taux d'alcalinité de l'intensité du hue\")\n",
        "ax2.boxplot(hue, vert=False)\n",
        "\n",
        "plt.show()"
      ],
      "metadata": {
        "colab": {
          "base_uri": "https://localhost:8080/",
          "height": 468
        },
        "id": "lfRFiUGS0wFP",
        "outputId": "16bf1f52-edfc-4a4c-91c3-f1541fba51b9"
      },
      "execution_count": null,
      "outputs": [
        {
          "output_type": "display_data",
          "data": {
            "text/plain": [
              "<Figure size 1200x500 with 2 Axes>"
            ],
            "image/png": "[encoded data removed]"
          },
          "metadata": {}
        }
      ]
    },
    {
      "cell_type": "code",
      "source": [
        "pearson_corr = wine_df.corr()\n",
        "print(pearson_corr)"
      ],
      "metadata": {
        "colab": {
          "base_uri": "https://localhost:8080/"
        },
        "id": "3tE1-KGl1ZoK",
        "outputId": "390b0a59-688c-40ae-d113-2290f22e4e69"
      },
      "execution_count": null,
      "outputs": [
        {
          "output_type": "stream",
          "name": "stdout",
          "text": [
            "                               alcohol  malic_acid       ash  \\\n",
            "alcohol                       1.000000    0.094397  0.211545   \n",
            "malic_acid                    0.094397    1.000000  0.164045   \n",
            "ash                           0.211545    0.164045  1.000000   \n",
            "alcalinity_of_ash            -0.310235    0.288500  0.443367   \n",
            "magnesium                     0.270798   -0.054575  0.286587   \n",
            "total_phenols                 0.289101   -0.335167  0.128980   \n",
            "flavanoids                    0.236815   -0.411007  0.115077   \n",
            "nonflavanoid_phenols         -0.155929    0.292977  0.186230   \n",
            "proanthocyanins               0.136698   -0.220746  0.009652   \n",
            "color_intensity               0.546364    0.248985  0.258887   \n",
            "hue                          -0.071747   -0.561296 -0.074667   \n",
            "od280/od315_of_diluted_wines  0.072343   -0.368710  0.003911   \n",
            "proline                       0.643720   -0.192011  0.223626   \n",
            "\n",
            "                              alcalinity_of_ash  magnesium  total_phenols  \\\n",
            "alcohol                               -0.310235   0.270798       0.289101   \n",
            "malic_acid                             0.288500  -0.054575      -0.335167   \n",
            "ash                                    0.443367   0.286587       0.128980   \n",
            "alcalinity_of_ash                      1.000000  -0.083333      -0.321113   \n",
            "magnesium                             -0.083333   1.000000       0.214401   \n",
            "total_phenols                         -0.321113   0.214401       1.000000   \n",
            "flavanoids                            -0.351370   0.195784       0.864564   \n",
            "nonflavanoid_phenols                   0.361922  -0.256294      -0.449935   \n",
            "proanthocyanins                       -0.197327   0.236441       0.612413   \n",
            "color_intensity                        0.018732   0.199950      -0.055136   \n",
            "hue                                   -0.273955   0.055398       0.433681   \n",
            "od280/od315_of_diluted_wines          -0.276769   0.066004       0.699949   \n",
            "proline                               -0.440597   0.393351       0.498115   \n",
            "\n",
            "                              flavanoids  nonflavanoid_phenols  \\\n",
            "alcohol                         0.236815             -0.155929   \n",
            "malic_acid                     -0.411007              0.292977   \n",
            "ash                             0.115077              0.186230   \n",
            "alcalinity_of_ash              -0.351370              0.361922   \n",
            "magnesium                       0.195784             -0.256294   \n",
            "total_phenols                   0.864564             -0.449935   \n",
            "flavanoids                      1.000000             -0.537900   \n",
            "nonflavanoid_phenols           -0.537900              1.000000   \n",
            "proanthocyanins                 0.652692             -0.365845   \n",
            "color_intensity                -0.172379              0.139057   \n",
            "hue                             0.543479             -0.262640   \n",
            "od280/od315_of_diluted_wines    0.787194             -0.503270   \n",
            "proline                         0.494193             -0.311385   \n",
            "\n",
            "                              proanthocyanins  color_intensity       hue  \\\n",
            "alcohol                              0.136698         0.546364 -0.071747   \n",
            "malic_acid                          -0.220746         0.248985 -0.561296   \n",
            "ash                                  0.009652         0.258887 -0.074667   \n",
            "alcalinity_of_ash                   -0.197327         0.018732 -0.273955   \n",
            "magnesium                            0.236441         0.199950  0.055398   \n",
            "total_phenols                        0.612413        -0.055136  0.433681   \n",
            "flavanoids                           0.652692        -0.172379  0.543479   \n",
            "nonflavanoid_phenols                -0.365845         0.139057 -0.262640   \n",
            "proanthocyanins                      1.000000        -0.025250  0.295544   \n",
            "color_intensity                     -0.025250         1.000000 -0.521813   \n",
            "hue                                  0.295544        -0.521813  1.000000   \n",
            "od280/od315_of_diluted_wines         0.519067        -0.428815  0.565468   \n",
            "proline                              0.330417         0.316100  0.236183   \n",
            "\n",
            "                              od280/od315_of_diluted_wines   proline  \n",
            "alcohol                                           0.072343  0.643720  \n",
            "malic_acid                                       -0.368710 -0.192011  \n",
            "ash                                               0.003911  0.223626  \n",
            "alcalinity_of_ash                                -0.276769 -0.440597  \n",
            "magnesium                                         0.066004  0.393351  \n",
            "total_phenols                                     0.699949  0.498115  \n",
            "flavanoids                                        0.787194  0.494193  \n",
            "nonflavanoid_phenols                             -0.503270 -0.311385  \n",
            "proanthocyanins                                   0.519067  0.330417  \n",
            "color_intensity                                  -0.428815  0.316100  \n",
            "hue                                               0.565468  0.236183  \n",
            "od280/od315_of_diluted_wines                      1.000000  0.312761  \n",
            "proline                                           0.312761  1.000000  \n"
          ]
        }
      ]
    },
    {
      "cell_type": "markdown",
      "source": [
        "-------------------------------------------"
      ],
      "metadata": {
        "id": "zC2cPCxmyBpR"
      }
    },
    {
      "cell_type": "markdown",
      "source": [
        "## Job 16\n",
        "Une loi de probabilité décrit le comportement aléatoire d'un phénomène dépendant du hasard tels que les lancers de pièces, les dés, les jeux de cartes, et d'autres événements plus complexes.\n",
        "\n",
        "Considérons la Loi Normale, l'unes des plus importantes en probabilités et en statistique. Les lois normales sont parmi les lois de probabilité les plus utilisées pour modéliser des phénomènes naturels issus de plusieurs événements aléatoires. Elle est caractérisée par sa forme en cloche symétrique.\n",
        "\n",
        "**Simulez la Loi Normale $\\mathcal{N}(0, 1)$ où la moyenne est $0$ et l'écart-type est $1$ :**\n",
        "1. Générez des échantillons à partir de la distribution normale en utilisant la fonction `np.random.normal`\n",
        "\n",
        "2. Affichez l'histogramme des données\n",
        "\n",
        "3. Tracez la courbe de densité de probabilité théorique de $\\mathcal{N}(0, 1)$ en traçant la fonction $f(x)$ ci-dessous :\n",
        "\n",
        "$$ f(x) = \\frac{1}{1 \\sqrt{2\\pi}} \\times e^{-\\frac{1}{2} \\times x^2 }$$"
      ],
      "metadata": {
        "id": "uIGpt7c1yE8Z"
      }
    },
    {
      "cell_type": "code",
      "source": [
        "import numpy as np\n",
        "import matplotlib.pyplot as plt\n",
        "\n",
        "moyenne = 0\n",
        "ecart_type = 1\n",
        "echantillons = 100\n",
        "\n",
        "normal_data = np.random.normal(moyenne, ecart_type, echantillons)\n",
        "\n",
        "plt.hist(normal_data, bins=20, density=True, color=\"lightgrey\", edgecolor='black')\n",
        "\n",
        "x = np.linspace(-5, 5, 1000)\n",
        "y = (1 / np.sqrt(2 * np.pi)) * np.exp(-0.5 * x**2)\n",
        "\n",
        "plt.plot(x, y, color='red')\n",
        "\n",
        "plt.show()"
      ],
      "metadata": {
        "id": "YL8L6xcCzoDQ",
        "colab": {
          "base_uri": "https://localhost:8080/",
          "height": 430
        },
        "outputId": "a36305de-09f7-46c4-fc23-d91a34ab52e5"
      },
      "execution_count": null,
      "outputs": [
        {
          "output_type": "display_data",
          "data": {
            "text/plain": [
              "<Figure size 640x480 with 1 Axes>"
            ],
            "image/png": "[encoded data removed]"
          },
          "metadata": {}
        }
      ]
    },
    {
      "cell_type": "markdown",
      "source": [
        "----------------------------------"
      ],
      "metadata": {
        "id": "MzR1Pu8BwXih"
      }
    },
    {
      "cell_type": "markdown",
      "source": [
        "# Calcul de dérivée"
      ],
      "metadata": {
        "id": "HM9Q73J0U9WB"
      }
    },
    {
      "cell_type": "markdown",
      "source": [
        "## Job 17\n",
        "\n",
        "En mathématiques, la dérivée d'une fonction d'une variable réelle mesure l'ampleur du changement de la valeur de la fonction (valeur de sortie) par rapport à un petit changement de son argument (valeur d'entrée). Les calculs de dérivées sont un outil fondamental du calcul infinitésimal. Par exemple, la dérivée de la position d'un objet en mouvement par rapport au temps est la vitesse (instantanée) de l'objet.\n",
        "\n",
        "\\\n",
        "\n",
        "Calculez la dérivée des fonctions suivantes à l'aide la librairie `SymPy` :\n",
        "\n",
        "1. $f(x) = 3x^2 - 2x + 5$\n",
        "\n",
        "2. $g(x) = \\frac{2}{x^2}$\n",
        "\n",
        "3. $h(x) = \\sqrt{3x - 1}$\n",
        "\n",
        "4. $k(x) = e^{x}$\n",
        "\n",
        "5. $l(x) = ln(x)$\n",
        "\n",
        "6. $p(x) = \\sqrt{x} + 2x^3$\n",
        "\n",
        "7. $q(x) = sin(x)$\n",
        "\n",
        "8. $r(x) = \\frac{x^2 + 1}{x-1}$"
      ],
      "metadata": {
        "id": "EzuMXD8pP5CX"
      }
    },
    {
      "cell_type": "code",
      "source": [
        "import sympy as sp\n",
        "\n",
        "\"\"\"1\"\"\"\n",
        "x = sp.symbols('x')\n",
        "\n",
        "f_x = 3*x**2 - 2 *x + 5\n",
        "deriv_f_x = sp.diff(f_x, x)\n"
      ],
      "metadata": {
        "id": "v1S2lF7iUbGd"
      },
      "execution_count": null,
      "outputs": []
    },
    {
      "cell_type": "code",
      "source": [
        "\"\"\"2\"\"\"\n",
        "x = sp.symbols('x')\n",
        "\n",
        "g_x = 2 / x**2\n",
        "deriv_g_x = sp.diff(g_x, x)"
      ],
      "metadata": {
        "id": "u5IxCgA8kvQ7"
      },
      "execution_count": null,
      "outputs": []
    },
    {
      "cell_type": "code",
      "source": [
        "\"\"\"3\"\"\"\n",
        "x = sp.symbols('x')\n",
        "\n",
        "h_x = sp.sqrt(3*x - 1)\n",
        "deriv_h_x = sp.diff(h_x, x)"
      ],
      "metadata": {
        "id": "k3VH2SpHmTk3"
      },
      "execution_count": null,
      "outputs": []
    },
    {
      "cell_type": "code",
      "source": [
        "\"\"\"5\"\"\"\n",
        "x = sp.symbols('x')\n",
        "\n",
        "l_x = sp.ln(x)\n",
        "deriv_l_x = sp.diff(l_x, x)\n",
        "print(deriv_l_x)"
      ],
      "metadata": {
        "colab": {
          "base_uri": "https://localhost:8080/"
        },
        "id": "LjjkxowDnsFG",
        "outputId": "cdd881d4-073c-4b25-e757-09c434ca099e"
      },
      "execution_count": null,
      "outputs": [
        {
          "output_type": "stream",
          "name": "stdout",
          "text": [
            "1/x\n"
          ]
        }
      ]
    },
    {
      "cell_type": "code",
      "source": [
        "\"\"\"6\"\"\"\n",
        "x = sp.symbols('x')\n",
        "\n",
        "p_x = sp.sqrt(x) + 2*x**3\n",
        "deriv_p_x = sp.diff(p_x, x)\n",
        "print(deriv_p_x)"
      ],
      "metadata": {
        "colab": {
          "base_uri": "https://localhost:8080/"
        },
        "id": "kTkyPQisnua0",
        "outputId": "0111a1e4-48fc-488d-fc0e-97bf61d63e21"
      },
      "execution_count": null,
      "outputs": [
        {
          "output_type": "stream",
          "name": "stdout",
          "text": [
            "6*x**2 + 1/(2*sqrt(x))\n"
          ]
        }
      ]
    },
    {
      "cell_type": "code",
      "source": [
        "\"\"\"7\"\"\"\n",
        "x = sp.symbols('x')\n",
        "\n",
        "q_x = sp.sin(x)\n",
        "deriv_q_x = sp.diff(q_x, x)\n",
        "print(deriv_q_x)"
      ],
      "metadata": {
        "colab": {
          "base_uri": "https://localhost:8080/"
        },
        "id": "IcuxWUOjnv02",
        "outputId": "a30d42fd-2a58-4baa-803a-661895421c90"
      },
      "execution_count": null,
      "outputs": [
        {
          "output_type": "stream",
          "name": "stdout",
          "text": [
            "cos(x)\n"
          ]
        }
      ]
    },
    {
      "cell_type": "code",
      "source": [
        "\"\"\"8\"\"\"\n",
        "x = sp.symbols('x')\n",
        "\n",
        "r_x = (x**2 + 1) / (x - 1)\n",
        "deriv_r_x = sp.diff(r_x, x)\n",
        "print(deriv_r_x)"
      ],
      "metadata": {
        "colab": {
          "base_uri": "https://localhost:8080/"
        },
        "id": "34vEaqwunxhF",
        "outputId": "f9191da9-2104-4722-b3a5-64c8c0b26e1f"
      },
      "execution_count": null,
      "outputs": [
        {
          "output_type": "stream",
          "name": "stdout",
          "text": [
            "2*x/(x - 1) - (x**2 + 1)/(x - 1)**2\n"
          ]
        }
      ]
    },
    {
      "cell_type": "markdown",
      "source": [
        "1. $f$'($x$) = 6$x$ - 2\n",
        "2. $g$'($x$) = $\\frac{-4}{x^3}$\n",
        "3. $h$'($x$) = $\\frac{3}{2\\sqrt(3x - 1)}$\n",
        "4. La dérivée de $k$($x$) = $e^x$ est $k$'($x$) = $e^x$ car la fonction exponentielle est sa propre dérivée\n",
        "5. $l$'($x$) = $\\frac{1}{x}$\n",
        "6. $p$'($x$) = $6x^2 + \\frac{1}{2\\sqrt x}$\n",
        "7. $q$'($x$) = $cos(x)$\n",
        "8. $r$'($x$) = $\\frac{2x}{(x - 1)} - \\frac{(x^2 + 1)}{(x - 1)^2}$"
      ],
      "metadata": {
        "id": "gCC0N7XFiycr"
      }
    },
    {
      "cell_type": "markdown",
      "source": [
        "----------------------------------------------------------------------"
      ],
      "metadata": {
        "id": "lCCEJlbCYbOG"
      }
    },
    {
      "cell_type": "markdown",
      "source": [
        "# Toujours plus loin..."
      ],
      "metadata": {
        "id": "MF70NYVuJNty"
      }
    },
    {
      "cell_type": "markdown",
      "source": [
        "## **Job Bonus 1**\n",
        "A l'aide de ce que vous avez appris dans le *job 16*, réalisez une simulation du **Théorème Central Limit**.\n",
        "\n",
        "*Pour des raisons d'organisation et de lisibilité de votre notebook, créez votre implémentation dans des fichiers .py que vous viendrez appeler à l'aide de la cellule ci-dessous :*"
      ],
      "metadata": {
        "id": "uA0coLJoPxyx"
      }
    },
    {
      "cell_type": "code",
      "source": [
        "%run job_bonus_1.py\n"
      ],
      "metadata": {
        "id": "RVbjzQVXP1kL",
        "colab": {
          "base_uri": "https://localhost:8080/",
          "height": 489
        },
        "outputId": "a38d9a9a-402c-4270-a89a-f08fdd983038"
      },
      "execution_count": null,
      "outputs": [
        {
          "output_type": "display_data",
          "data": {
            "text/plain": [
              "<Figure size 640x480 with 1 Axes>"
            ],
            "image/png": "[encoded data removed]"
          },
          "metadata": {}
        },
        {
          "output_type": "display_data",
          "data": {
            "text/plain": [
              "<Figure size 640x480 with 0 Axes>"
            ]
          },
          "metadata": {}
        }
      ]
    },
    {
      "cell_type": "markdown",
      "source": [
        "----------------------------------------------------------------------"
      ],
      "metadata": {
        "id": "iUoIMe-JYdrP"
      }
    },
    {
      "cell_type": "markdown",
      "source": [
        "## **Job Bonus 2**\n",
        "\n",
        "**Un algorithme de tri, notion fondamentale en informatique ou en mathématiques, est un algorithme qui permet d'organiser une collection d'objets selon une relation d'ordre déterminée. Suivant la relation d'ordre considérée, une même collection d’objet peut donner lieu à divers arrangements.**\n",
        "\n",
        "Par exemple, on pourrait trier un tableau `tab` d'entiers naturels de $1$ à $N$ dans un ordre croissant ou décroissant.\n",
        "\n",
        "L'implémentation des algorithmes de tri est un excellent exercice pour comprendre des concepts fondamentaux de la programmation, comprendre d'autres algorithmes et se préparer à des entretiens techniques.\n",
        "\n",
        "Tentez d'implémenter un ou plusieurs des algorithmes de tri suivants :\n",
        "\n",
        "* **Tri à bulles (bubble sort)**\n",
        "* **Tri par insertion (Insertion sort)**\n",
        "* **Tri fusion (merge sort)**\n",
        "* **Tri rapide (quick sort)**\n",
        "\n",
        "\n",
        "\n",
        "*Pour des raisons d'organisation et lisibilité de votre notebook, créez vos différentes implémentations des algorithmes de tri dans des fichiers .py que vous viendrez appeler à l'aide de la cellule ci-dessous :*"
      ],
      "metadata": {
        "id": "JIQ8RlMGwZyt"
      }
    },
    {
      "cell_type": "code",
      "source": [
        "%run job_bonus_2.py"
      ],
      "metadata": {
        "id": "q3BmeEQSxM0g",
        "colab": {
          "base_uri": "https://localhost:8080/"
        },
        "outputId": "d657b1e6-ebc1-48ba-b873-8a8cf3a7716f"
      },
      "execution_count": 34,
      "outputs": [
        {
          "output_type": "stream",
          "name": "stdout",
          "text": [
            "This is my original list: [64, 34, 25, 12, 22, 11, 90]\n",
            "\n",
            "Results:\n",
            "Bubble Sort: [11, 12, 22, 25, 34, 64, 90]\n",
            "Insertion Sort: [11, 12, 22, 25, 34, 64, 90]\n",
            "Merge Sort: [11, 12, 22, 25, 34, 64, 90]\n",
            "Quick Sort: [11, 12, 22, 25, 34, 64, 90]\n"
          ]
        }
      ]
    }
  ]
}